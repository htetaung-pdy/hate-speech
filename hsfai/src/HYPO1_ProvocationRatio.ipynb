{
 "nbformat": 4,
 "nbformat_minor": 2,
 "metadata": {
  "language_info": {
   "name": "python",
   "codemirror_mode": {
    "name": "ipython",
    "version": 3
   },
   "version": "3.7.6-final"
  },
  "orig_nbformat": 2,
  "file_extension": ".py",
  "mimetype": "text/x-python",
  "name": "python",
  "npconvert_exporter": "python",
  "pygments_lexer": "ipython3",
  "version": 3,
  "kernelspec": {
   "name": "python3",
   "display_name": "Python 3"
  }
 },
 "cells": [
  {
   "cell_type": "code",
   "execution_count": null,
   "metadata": {},
   "outputs": [],
   "source": []
  },
  {
   "cell_type": "code",
   "execution_count": 1,
   "metadata": {},
   "outputs": [],
   "source": [
    "import pandas as pd\n",
    "from tqdm import tqdm\n",
    "\n",
    "batchX = '/home/bupi/Documents/pdy/hs/hsle/data/exportcomments-outputs/20200413_20200420/processed/merged.csv'"
   ]
  },
  {
   "cell_type": "code",
   "execution_count": 2,
   "metadata": {},
   "outputs": [
    {
     "output_type": "stream",
     "name": "stdout",
     "text": "(124934, 16)\n"
    },
    {
     "output_type": "execute_result",
     "data": {
      "text/plain": "   cId  nId Name (click to view profile)           Profile ID  \\\n0    1    0                    Kyaw Thet  ID: 100017924341255   \n1    2    0                 Chitmoe Thwe  ID: 100009696576683   \n\n                  Date  Likes                               Comment  \\\n0  2020-04-13 17:52:10      0       သင့္ေၾကာင့္ကိုဗစ္မကူးပါေစနဲ႔လို   \n1  2020-04-13 17:54:15      0  ၆၂ေယာက္ရွိသြားၿပီဗ်ာသတင္းကေနာက္က်တယ္   \n\n  (view source)         postId  nChars                                MsgUni  \\\n0  view comment  20200413_0337      31       သင့်ကြောင့်ကိုဗစ်မကူးပါစေနဲ့လို   \n1  view comment  20200413_0337      36  ၆၂ယောက်ရှိသွားပြီဗျာသတင်းကနောက်ကျတယ်   \n\n   atleast1MM                                      MsgUniSeg LexFound  \\\n0        True        သင့် ကြောင့် ကို ဗစ် မ ကူး ပါစေ နဲ့ လို      NaN   \n1        True  ၆၂ ယောက် ရှိ သွား ပြီ ဗျာ သတင်း က နောက်ကျ တယ်      NaN   \n\n                                             PostURL       profile_id  \n0  https://www.facebook.com/themyanmartimes/posts...  100017924341255  \n1  https://www.facebook.com/themyanmartimes/posts...  100009696576683  ",
      "text/html": "<div>\n<style scoped>\n    .dataframe tbody tr th:only-of-type {\n        vertical-align: middle;\n    }\n\n    .dataframe tbody tr th {\n        vertical-align: top;\n    }\n\n    .dataframe thead th {\n        text-align: right;\n    }\n</style>\n<table border=\"1\" class=\"dataframe\">\n  <thead>\n    <tr style=\"text-align: right;\">\n      <th></th>\n      <th>cId</th>\n      <th>nId</th>\n      <th>Name (click to view profile)</th>\n      <th>Profile ID</th>\n      <th>Date</th>\n      <th>Likes</th>\n      <th>Comment</th>\n      <th>(view source)</th>\n      <th>postId</th>\n      <th>nChars</th>\n      <th>MsgUni</th>\n      <th>atleast1MM</th>\n      <th>MsgUniSeg</th>\n      <th>LexFound</th>\n      <th>PostURL</th>\n      <th>profile_id</th>\n    </tr>\n  </thead>\n  <tbody>\n    <tr>\n      <th>0</th>\n      <td>1</td>\n      <td>0</td>\n      <td>Kyaw Thet</td>\n      <td>ID: 100017924341255</td>\n      <td>2020-04-13 17:52:10</td>\n      <td>0</td>\n      <td>သင့္ေၾကာင့္ကိုဗစ္မကူးပါေစနဲ႔လို</td>\n      <td>view comment</td>\n      <td>20200413_0337</td>\n      <td>31</td>\n      <td>သင့်ကြောင့်ကိုဗစ်မကူးပါစေနဲ့လို</td>\n      <td>True</td>\n      <td>သင့် ကြောင့် ကို ဗစ် မ ကူး ပါစေ နဲ့ လို</td>\n      <td>NaN</td>\n      <td>https://www.facebook.com/themyanmartimes/posts...</td>\n      <td>100017924341255</td>\n    </tr>\n    <tr>\n      <th>1</th>\n      <td>2</td>\n      <td>0</td>\n      <td>Chitmoe Thwe</td>\n      <td>ID: 100009696576683</td>\n      <td>2020-04-13 17:54:15</td>\n      <td>0</td>\n      <td>၆၂ေယာက္ရွိသြားၿပီဗ်ာသတင္းကေနာက္က်တယ္</td>\n      <td>view comment</td>\n      <td>20200413_0337</td>\n      <td>36</td>\n      <td>၆၂ယောက်ရှိသွားပြီဗျာသတင်းကနောက်ကျတယ်</td>\n      <td>True</td>\n      <td>၆၂ ယောက် ရှိ သွား ပြီ ဗျာ သတင်း က နောက်ကျ တယ်</td>\n      <td>NaN</td>\n      <td>https://www.facebook.com/themyanmartimes/posts...</td>\n      <td>100009696576683</td>\n    </tr>\n  </tbody>\n</table>\n</div>"
     },
     "metadata": {},
     "execution_count": 2
    }
   ],
   "source": [
    "df = pd.read_csv(batchX)\n",
    "df['profile_id'] = [p.strip().split()[-1] for p in df['Profile ID']]\n",
    "print(df.shape)\n",
    "df.head(2)"
   ]
  },
  {
   "cell_type": "markdown",
   "metadata": {},
   "source": [
    "## Get Unique Accounts\n"
   ]
  },
  {
   "cell_type": "code",
   "execution_count": 3,
   "metadata": {},
   "outputs": [
    {
     "output_type": "stream",
     "name": "stdout",
     "text": "(95201,)\n"
    }
   ],
   "source": [
    "accounts = df.profile_id.unique()\n",
    "print(accounts.shape)"
   ]
  },
  {
   "cell_type": "markdown",
   "metadata": {},
   "source": [
    "## Comments Counts by Accounts"
   ]
  },
  {
   "cell_type": "code",
   "execution_count": 4,
   "metadata": {},
   "outputs": [
    {
     "output_type": "stream",
     "name": "stdout",
     "text": "(95201,)\n"
    },
    {
     "output_type": "execute_result",
     "data": {
      "text/plain": "profile_id\n100002366838046    40\n100000478433815    37\nName: profile_id, dtype: int64"
     },
     "metadata": {},
     "execution_count": 4
    }
   ],
   "source": [
    "cmt_qty_by_acc = df.groupby('profile_id')['profile_id'].count()\n",
    "print(cmt_qty_by_acc.shape)\n",
    "cmt_qty_by_acc.sort_values(ascending=False, inplace=True)\n",
    "cmt_qty_by_acc[:2]"
   ]
  },
  {
   "cell_type": "markdown",
   "metadata": {},
   "source": [
    "### Filter by Comment Counts\n",
    "- Top 1% active actors?"
   ]
  },
  {
   "cell_type": "code",
   "execution_count": 5,
   "metadata": {},
   "outputs": [
    {
     "output_type": "stream",
     "name": "stdout",
     "text": "(952,)\n"
    }
   ],
   "source": [
    "N1 = int(cmt_qty_by_acc.shape[0]/100)\n",
    "top1 = pd.Series(cmt_qty_by_acc.values[:N1])\n",
    "top1.index = cmt_qty_by_acc.index[:N1]\n",
    "print(top1.shape)"
   ]
  },
  {
   "cell_type": "code",
   "execution_count": 6,
   "metadata": {},
   "outputs": [
    {
     "output_type": "execute_result",
     "data": {
      "text/plain": "count    952.000000\nmean       8.152311\nstd        3.822414\nmin        5.000000\n25%        6.000000\n50%        7.000000\n75%        9.000000\nmax       40.000000\ndtype: float64"
     },
     "metadata": {},
     "execution_count": 6
    }
   ],
   "source": [
    "top1.describe()"
   ]
  },
  {
   "cell_type": "markdown",
   "metadata": {},
   "source": [
    "### Calculate Unique Post Count"
   ]
  },
  {
   "cell_type": "code",
   "execution_count": 7,
   "metadata": {},
   "outputs": [
    {
     "output_type": "stream",
     "name": "stderr",
     "text": "100%|██████████| 952/952 [00:11<00:00, 82.33it/s]\n\n (952, 2)\n"
    }
   ],
   "source": [
    "post_qty_by_acc = [len(set(df.postId.values[df.profile_id==acc])) for acc in tqdm(top1.index)]\n",
    "\n",
    "top1df = pd.DataFrame({\n",
    "    'cmt_qty':top1.values,\n",
    "    'post_qty': post_qty_by_acc\n",
    "})\n",
    "top1df.index = top1.index\n",
    "print('\\n', top1df.shape)\n",
    "top1df['provocation_ratio'] = top1df.post_qty / top1df.cmt_qty\n",
    "top1df.sort_values(['provocation_ratio','cmt_qty'], ascending=False,inplace=True)"
   ]
  },
  {
   "cell_type": "code",
   "execution_count": 8,
   "metadata": {},
   "outputs": [],
   "source": [
    "top1df.to_csv('../results/20200413_20200420_top1_provocation.csv')"
   ]
  },
  {
   "cell_type": "markdown",
   "metadata": {},
   "source": [
    "## Find Lex Found Sentences"
   ]
  },
  {
   "cell_type": "code",
   "execution_count": 10,
   "metadata": {},
   "outputs": [],
   "source": [
    "df1 = df.loc[df.profile_id.isin(top1df.index),:]\n",
    "df1['lex_count'] = [0 if na else 1 for na in df1.LexFound.isna()]"
   ]
  },
  {
   "cell_type": "code",
   "execution_count": 11,
   "metadata": {},
   "outputs": [
    {
     "output_type": "execute_result",
     "data": {
      "text/plain": "profile_id\n100000057365715    0\n100000101995671    0\n100000102677211    0\n100000137724189    0\n100000142373085    6\n                  ..\n1737084786         1\n1775949670         1\n1816629647         0\n498314813612104    0\n543905947          0\nName: lex_count, Length: 952, dtype: int64"
     },
     "metadata": {},
     "execution_count": 11
    }
   ],
   "source": [
    "# groupby profileid\n",
    "lex_qty_by_acc = df1.groupby('profile_id')['lex_count'].sum()\n",
    "lex_qty_by_acc"
   ]
  },
  {
   "cell_type": "code",
   "execution_count": 12,
   "metadata": {},
   "outputs": [
    {
     "output_type": "execute_result",
     "data": {
      "text/plain": "                 cmt_qty  post_qty  provocation_ratio  lex_count\nprofile_id                                                      \n100028019040288       10        10                1.0          0\n100023359543448        9         9                1.0          0\n100016344181312        9         9                1.0          5\n100016930425001        9         9                1.0          3\n100022162780898        8         8                1.0          0",
      "text/html": "<div>\n<style scoped>\n    .dataframe tbody tr th:only-of-type {\n        vertical-align: middle;\n    }\n\n    .dataframe tbody tr th {\n        vertical-align: top;\n    }\n\n    .dataframe thead th {\n        text-align: right;\n    }\n</style>\n<table border=\"1\" class=\"dataframe\">\n  <thead>\n    <tr style=\"text-align: right;\">\n      <th></th>\n      <th>cmt_qty</th>\n      <th>post_qty</th>\n      <th>provocation_ratio</th>\n      <th>lex_count</th>\n    </tr>\n    <tr>\n      <th>profile_id</th>\n      <th></th>\n      <th></th>\n      <th></th>\n      <th></th>\n    </tr>\n  </thead>\n  <tbody>\n    <tr>\n      <th>100028019040288</th>\n      <td>10</td>\n      <td>10</td>\n      <td>1.0</td>\n      <td>0</td>\n    </tr>\n    <tr>\n      <th>100023359543448</th>\n      <td>9</td>\n      <td>9</td>\n      <td>1.0</td>\n      <td>0</td>\n    </tr>\n    <tr>\n      <th>100016344181312</th>\n      <td>9</td>\n      <td>9</td>\n      <td>1.0</td>\n      <td>5</td>\n    </tr>\n    <tr>\n      <th>100016930425001</th>\n      <td>9</td>\n      <td>9</td>\n      <td>1.0</td>\n      <td>3</td>\n    </tr>\n    <tr>\n      <th>100022162780898</th>\n      <td>8</td>\n      <td>8</td>\n      <td>1.0</td>\n      <td>0</td>\n    </tr>\n  </tbody>\n</table>\n</div>"
     },
     "metadata": {},
     "execution_count": 12
    }
   ],
   "source": [
    "top1df['lex_count'] = lex_qty_by_acc\n",
    "top1df.head()"
   ]
  },
  {
   "cell_type": "code",
   "execution_count": 13,
   "metadata": {},
   "outputs": [
    {
     "output_type": "execute_result",
     "data": {
      "text/plain": "                 cmt_qty  post_qty  provocation_ratio  lex_count\nprofile_id                                                      \n100009583100175       23         3           0.130435         19\n100014938440875       33         1           0.030303         13\n100008344413856       19         1           0.052632         10\n100012465663554       19         1           0.052632          9\n100044060053317       13         6           0.461538          6\n...                  ...       ...                ...        ...\n100042149160289       18         1           0.055556          0\n100038945359152       18         1           0.055556          0\n100015035296352       22         1           0.045455          0\n100036445125794       24         1           0.041667          0\n100000478433815       37         1           0.027027          0\n\n[952 rows x 4 columns]",
      "text/html": "<div>\n<style scoped>\n    .dataframe tbody tr th:only-of-type {\n        vertical-align: middle;\n    }\n\n    .dataframe tbody tr th {\n        vertical-align: top;\n    }\n\n    .dataframe thead th {\n        text-align: right;\n    }\n</style>\n<table border=\"1\" class=\"dataframe\">\n  <thead>\n    <tr style=\"text-align: right;\">\n      <th></th>\n      <th>cmt_qty</th>\n      <th>post_qty</th>\n      <th>provocation_ratio</th>\n      <th>lex_count</th>\n    </tr>\n    <tr>\n      <th>profile_id</th>\n      <th></th>\n      <th></th>\n      <th></th>\n      <th></th>\n    </tr>\n  </thead>\n  <tbody>\n    <tr>\n      <th>100009583100175</th>\n      <td>23</td>\n      <td>3</td>\n      <td>0.130435</td>\n      <td>19</td>\n    </tr>\n    <tr>\n      <th>100014938440875</th>\n      <td>33</td>\n      <td>1</td>\n      <td>0.030303</td>\n      <td>13</td>\n    </tr>\n    <tr>\n      <th>100008344413856</th>\n      <td>19</td>\n      <td>1</td>\n      <td>0.052632</td>\n      <td>10</td>\n    </tr>\n    <tr>\n      <th>100012465663554</th>\n      <td>19</td>\n      <td>1</td>\n      <td>0.052632</td>\n      <td>9</td>\n    </tr>\n    <tr>\n      <th>100044060053317</th>\n      <td>13</td>\n      <td>6</td>\n      <td>0.461538</td>\n      <td>6</td>\n    </tr>\n    <tr>\n      <th>...</th>\n      <td>...</td>\n      <td>...</td>\n      <td>...</td>\n      <td>...</td>\n    </tr>\n    <tr>\n      <th>100042149160289</th>\n      <td>18</td>\n      <td>1</td>\n      <td>0.055556</td>\n      <td>0</td>\n    </tr>\n    <tr>\n      <th>100038945359152</th>\n      <td>18</td>\n      <td>1</td>\n      <td>0.055556</td>\n      <td>0</td>\n    </tr>\n    <tr>\n      <th>100015035296352</th>\n      <td>22</td>\n      <td>1</td>\n      <td>0.045455</td>\n      <td>0</td>\n    </tr>\n    <tr>\n      <th>100036445125794</th>\n      <td>24</td>\n      <td>1</td>\n      <td>0.041667</td>\n      <td>0</td>\n    </tr>\n    <tr>\n      <th>100000478433815</th>\n      <td>37</td>\n      <td>1</td>\n      <td>0.027027</td>\n      <td>0</td>\n    </tr>\n  </tbody>\n</table>\n<p>952 rows × 4 columns</p>\n</div>"
     },
     "metadata": {},
     "execution_count": 13
    }
   ],
   "source": [
    "top1df.sort_values(\n",
    "    ['lex_count','provocation_ratio'],\n",
    "    ascending=False)"
   ]
  },
  {
   "cell_type": "code",
   "execution_count": 14,
   "metadata": {},
   "outputs": [
    {
     "output_type": "execute_result",
     "data": {
      "text/plain": "                 cmt_qty  post_qty  provocation_ratio  lex_count     rank1\nprofile_id                                                                \n100016344181312        9         9           1.000000          5  5.000000\n100041595170810        8         8           1.000000          4  4.000000\n100017790403344       11        10           0.909091          4  3.636364\n100016930425001        9         9           1.000000          3  3.000000\n100044060053317       13         6           0.461538          6  2.769231\n100000142373085       12         5           0.416667          6  2.500000\n100009583100175       23         3           0.130435         19  2.478261\n100010831205744       10         8           0.800000          3  2.400000\n100041802285557       10         6           0.600000          4  2.400000\n100013299252808       15         7           0.466667          5  2.333333",
      "text/html": "<div>\n<style scoped>\n    .dataframe tbody tr th:only-of-type {\n        vertical-align: middle;\n    }\n\n    .dataframe tbody tr th {\n        vertical-align: top;\n    }\n\n    .dataframe thead th {\n        text-align: right;\n    }\n</style>\n<table border=\"1\" class=\"dataframe\">\n  <thead>\n    <tr style=\"text-align: right;\">\n      <th></th>\n      <th>cmt_qty</th>\n      <th>post_qty</th>\n      <th>provocation_ratio</th>\n      <th>lex_count</th>\n      <th>rank1</th>\n    </tr>\n    <tr>\n      <th>profile_id</th>\n      <th></th>\n      <th></th>\n      <th></th>\n      <th></th>\n      <th></th>\n    </tr>\n  </thead>\n  <tbody>\n    <tr>\n      <th>100016344181312</th>\n      <td>9</td>\n      <td>9</td>\n      <td>1.000000</td>\n      <td>5</td>\n      <td>5.000000</td>\n    </tr>\n    <tr>\n      <th>100041595170810</th>\n      <td>8</td>\n      <td>8</td>\n      <td>1.000000</td>\n      <td>4</td>\n      <td>4.000000</td>\n    </tr>\n    <tr>\n      <th>100017790403344</th>\n      <td>11</td>\n      <td>10</td>\n      <td>0.909091</td>\n      <td>4</td>\n      <td>3.636364</td>\n    </tr>\n    <tr>\n      <th>100016930425001</th>\n      <td>9</td>\n      <td>9</td>\n      <td>1.000000</td>\n      <td>3</td>\n      <td>3.000000</td>\n    </tr>\n    <tr>\n      <th>100044060053317</th>\n      <td>13</td>\n      <td>6</td>\n      <td>0.461538</td>\n      <td>6</td>\n      <td>2.769231</td>\n    </tr>\n    <tr>\n      <th>100000142373085</th>\n      <td>12</td>\n      <td>5</td>\n      <td>0.416667</td>\n      <td>6</td>\n      <td>2.500000</td>\n    </tr>\n    <tr>\n      <th>100009583100175</th>\n      <td>23</td>\n      <td>3</td>\n      <td>0.130435</td>\n      <td>19</td>\n      <td>2.478261</td>\n    </tr>\n    <tr>\n      <th>100010831205744</th>\n      <td>10</td>\n      <td>8</td>\n      <td>0.800000</td>\n      <td>3</td>\n      <td>2.400000</td>\n    </tr>\n    <tr>\n      <th>100041802285557</th>\n      <td>10</td>\n      <td>6</td>\n      <td>0.600000</td>\n      <td>4</td>\n      <td>2.400000</td>\n    </tr>\n    <tr>\n      <th>100013299252808</th>\n      <td>15</td>\n      <td>7</td>\n      <td>0.466667</td>\n      <td>5</td>\n      <td>2.333333</td>\n    </tr>\n  </tbody>\n</table>\n</div>"
     },
     "metadata": {},
     "execution_count": 14
    }
   ],
   "source": [
    "top1df['rank1'] = top1df.provocation_ratio * top1df.lex_count\n",
    "top1df.sort_values(['rank1'], ascending=False).head(10)"
   ]
  },
  {
   "cell_type": "code",
   "execution_count": 15,
   "metadata": {},
   "outputs": [
    {
     "output_type": "execute_result",
     "data": {
      "text/plain": "                 cmt_qty  post_qty  provocation_ratio  lex_count     rank1  \\\nprofile_id                                                                   \n100009583100175       23         3           0.130435         19  2.478261   \n100016344181312        9         9           1.000000          5  5.000000   \n100017790403344       11        10           0.909091          4  3.636364   \n100044060053317       13         6           0.461538          6  2.769231   \n100013299252808       15         7           0.466667          5  2.333333   \n100041595170810        8         8           1.000000          4  4.000000   \n100000142373085       12         5           0.416667          6  2.500000   \n100016930425001        9         9           1.000000          3  3.000000   \n100049645520278       12         9           0.750000          3  2.250000   \n100010831205744       10         8           0.800000          3  2.400000   \n\n                 rank2  \nprofile_id              \n100009583100175     57  \n100016344181312     45  \n100017790403344     40  \n100044060053317     36  \n100013299252808     35  \n100041595170810     32  \n100000142373085     30  \n100016930425001     27  \n100049645520278     27  \n100010831205744     24  ",
      "text/html": "<div>\n<style scoped>\n    .dataframe tbody tr th:only-of-type {\n        vertical-align: middle;\n    }\n\n    .dataframe tbody tr th {\n        vertical-align: top;\n    }\n\n    .dataframe thead th {\n        text-align: right;\n    }\n</style>\n<table border=\"1\" class=\"dataframe\">\n  <thead>\n    <tr style=\"text-align: right;\">\n      <th></th>\n      <th>cmt_qty</th>\n      <th>post_qty</th>\n      <th>provocation_ratio</th>\n      <th>lex_count</th>\n      <th>rank1</th>\n      <th>rank2</th>\n    </tr>\n    <tr>\n      <th>profile_id</th>\n      <th></th>\n      <th></th>\n      <th></th>\n      <th></th>\n      <th></th>\n      <th></th>\n    </tr>\n  </thead>\n  <tbody>\n    <tr>\n      <th>100009583100175</th>\n      <td>23</td>\n      <td>3</td>\n      <td>0.130435</td>\n      <td>19</td>\n      <td>2.478261</td>\n      <td>57</td>\n    </tr>\n    <tr>\n      <th>100016344181312</th>\n      <td>9</td>\n      <td>9</td>\n      <td>1.000000</td>\n      <td>5</td>\n      <td>5.000000</td>\n      <td>45</td>\n    </tr>\n    <tr>\n      <th>100017790403344</th>\n      <td>11</td>\n      <td>10</td>\n      <td>0.909091</td>\n      <td>4</td>\n      <td>3.636364</td>\n      <td>40</td>\n    </tr>\n    <tr>\n      <th>100044060053317</th>\n      <td>13</td>\n      <td>6</td>\n      <td>0.461538</td>\n      <td>6</td>\n      <td>2.769231</td>\n      <td>36</td>\n    </tr>\n    <tr>\n      <th>100013299252808</th>\n      <td>15</td>\n      <td>7</td>\n      <td>0.466667</td>\n      <td>5</td>\n      <td>2.333333</td>\n      <td>35</td>\n    </tr>\n    <tr>\n      <th>100041595170810</th>\n      <td>8</td>\n      <td>8</td>\n      <td>1.000000</td>\n      <td>4</td>\n      <td>4.000000</td>\n      <td>32</td>\n    </tr>\n    <tr>\n      <th>100000142373085</th>\n      <td>12</td>\n      <td>5</td>\n      <td>0.416667</td>\n      <td>6</td>\n      <td>2.500000</td>\n      <td>30</td>\n    </tr>\n    <tr>\n      <th>100016930425001</th>\n      <td>9</td>\n      <td>9</td>\n      <td>1.000000</td>\n      <td>3</td>\n      <td>3.000000</td>\n      <td>27</td>\n    </tr>\n    <tr>\n      <th>100049645520278</th>\n      <td>12</td>\n      <td>9</td>\n      <td>0.750000</td>\n      <td>3</td>\n      <td>2.250000</td>\n      <td>27</td>\n    </tr>\n    <tr>\n      <th>100010831205744</th>\n      <td>10</td>\n      <td>8</td>\n      <td>0.800000</td>\n      <td>3</td>\n      <td>2.400000</td>\n      <td>24</td>\n    </tr>\n  </tbody>\n</table>\n</div>"
     },
     "metadata": {},
     "execution_count": 15
    }
   ],
   "source": [
    "top1df['rank2'] = top1df.post_qty * top1df.lex_count\n",
    "top1df.sort_values(['rank2'], ascending=False).head(10)"
   ]
  },
  {
   "cell_type": "code",
   "execution_count": 16,
   "metadata": {},
   "outputs": [
    {
     "output_type": "execute_result",
     "data": {
      "text/plain": "                 cmt_qty  post_qty  provocation_ratio  lex_count     rank1  \\\nprofile_id                                                                   \n100029101801142        6         2           0.333333          5  1.666667   \n100009583100175       23         3           0.130435         19  2.478261   \n100022107270371        8         1           0.125000          6  0.750000   \n100042465318376        6         1           0.166667          4  0.666667   \n100016344181312        9         9           1.000000          5  5.000000   \n100047181815568       11         1           0.090909          6  0.545455   \n100008344413856       19         1           0.052632         10  0.526316   \n100015101389061        6         4           0.666667          3  2.000000   \n100047359334741        6         1           0.166667          3  0.500000   \n100041595170810        8         8           1.000000          4  4.000000   \n\n                 rank2     rank3  \nprofile_id                        \n100029101801142     10  0.833333  \n100009583100175     57  0.826087  \n100022107270371      6  0.750000  \n100042465318376      4  0.666667  \n100016344181312     45  0.555556  \n100047181815568      6  0.545455  \n100008344413856     10  0.526316  \n100015101389061     12  0.500000  \n100047359334741      3  0.500000  \n100041595170810     32  0.500000  ",
      "text/html": "<div>\n<style scoped>\n    .dataframe tbody tr th:only-of-type {\n        vertical-align: middle;\n    }\n\n    .dataframe tbody tr th {\n        vertical-align: top;\n    }\n\n    .dataframe thead th {\n        text-align: right;\n    }\n</style>\n<table border=\"1\" class=\"dataframe\">\n  <thead>\n    <tr style=\"text-align: right;\">\n      <th></th>\n      <th>cmt_qty</th>\n      <th>post_qty</th>\n      <th>provocation_ratio</th>\n      <th>lex_count</th>\n      <th>rank1</th>\n      <th>rank2</th>\n      <th>rank3</th>\n    </tr>\n    <tr>\n      <th>profile_id</th>\n      <th></th>\n      <th></th>\n      <th></th>\n      <th></th>\n      <th></th>\n      <th></th>\n      <th></th>\n    </tr>\n  </thead>\n  <tbody>\n    <tr>\n      <th>100029101801142</th>\n      <td>6</td>\n      <td>2</td>\n      <td>0.333333</td>\n      <td>5</td>\n      <td>1.666667</td>\n      <td>10</td>\n      <td>0.833333</td>\n    </tr>\n    <tr>\n      <th>100009583100175</th>\n      <td>23</td>\n      <td>3</td>\n      <td>0.130435</td>\n      <td>19</td>\n      <td>2.478261</td>\n      <td>57</td>\n      <td>0.826087</td>\n    </tr>\n    <tr>\n      <th>100022107270371</th>\n      <td>8</td>\n      <td>1</td>\n      <td>0.125000</td>\n      <td>6</td>\n      <td>0.750000</td>\n      <td>6</td>\n      <td>0.750000</td>\n    </tr>\n    <tr>\n      <th>100042465318376</th>\n      <td>6</td>\n      <td>1</td>\n      <td>0.166667</td>\n      <td>4</td>\n      <td>0.666667</td>\n      <td>4</td>\n      <td>0.666667</td>\n    </tr>\n    <tr>\n      <th>100016344181312</th>\n      <td>9</td>\n      <td>9</td>\n      <td>1.000000</td>\n      <td>5</td>\n      <td>5.000000</td>\n      <td>45</td>\n      <td>0.555556</td>\n    </tr>\n    <tr>\n      <th>100047181815568</th>\n      <td>11</td>\n      <td>1</td>\n      <td>0.090909</td>\n      <td>6</td>\n      <td>0.545455</td>\n      <td>6</td>\n      <td>0.545455</td>\n    </tr>\n    <tr>\n      <th>100008344413856</th>\n      <td>19</td>\n      <td>1</td>\n      <td>0.052632</td>\n      <td>10</td>\n      <td>0.526316</td>\n      <td>10</td>\n      <td>0.526316</td>\n    </tr>\n    <tr>\n      <th>100015101389061</th>\n      <td>6</td>\n      <td>4</td>\n      <td>0.666667</td>\n      <td>3</td>\n      <td>2.000000</td>\n      <td>12</td>\n      <td>0.500000</td>\n    </tr>\n    <tr>\n      <th>100047359334741</th>\n      <td>6</td>\n      <td>1</td>\n      <td>0.166667</td>\n      <td>3</td>\n      <td>0.500000</td>\n      <td>3</td>\n      <td>0.500000</td>\n    </tr>\n    <tr>\n      <th>100041595170810</th>\n      <td>8</td>\n      <td>8</td>\n      <td>1.000000</td>\n      <td>4</td>\n      <td>4.000000</td>\n      <td>32</td>\n      <td>0.500000</td>\n    </tr>\n  </tbody>\n</table>\n</div>"
     },
     "metadata": {},
     "execution_count": 16
    }
   ],
   "source": [
    "top1df['rank3'] = top1df.lex_count / top1df.cmt_qty\n",
    "top1df.sort_values(['rank3'], ascending=False).head(10)"
   ]
  },
  {
   "cell_type": "code",
   "execution_count": 17,
   "metadata": {},
   "outputs": [],
   "source": [
    "top1df.sort_values(\n",
    "    ['rank1','rank3','rank2'],\n",
    "    ascending=False,\n",
    "    inplace=True\n",
    ")"
   ]
  },
  {
   "cell_type": "code",
   "execution_count": 18,
   "metadata": {},
   "outputs": [
    {
     "output_type": "execute_result",
     "data": {
      "text/plain": "                 cmt_qty  post_qty  provocation_ratio  lex_count     rank1  \\\nprofile_id                                                                   \n100016344181312        9         9           1.000000          5  5.000000   \n100041595170810        8         8           1.000000          4  4.000000   \n100015944012631        5         5           1.000000          2  2.000000   \n100016930425001        9         9           1.000000          3  3.000000   \n100015101389061        6         4           0.666667          3  2.000000   \n100017790403344       11        10           0.909091          4  3.636364   \n100046162694115        5         4           0.800000          2  1.600000   \n100010285562417        6         5           0.833333          2  1.666667   \n100029101801142        6         2           0.333333          5  1.666667   \n100010831205744       10         8           0.800000          3  2.400000   \n\n                 rank2     rank3     rank4  \nprofile_id                                  \n100016344181312     45  0.555556  0.555556  \n100041595170810     32  0.500000  0.500000  \n100015944012631     10  0.400000  0.400000  \n100016930425001     27  0.333333  0.333333  \n100015101389061     12  0.500000  0.333333  \n100017790403344     40  0.363636  0.330579  \n100046162694115      8  0.400000  0.320000  \n100010285562417     10  0.333333  0.277778  \n100029101801142     10  0.833333  0.277778  \n100010831205744     24  0.300000  0.240000  ",
      "text/html": "<div>\n<style scoped>\n    .dataframe tbody tr th:only-of-type {\n        vertical-align: middle;\n    }\n\n    .dataframe tbody tr th {\n        vertical-align: top;\n    }\n\n    .dataframe thead th {\n        text-align: right;\n    }\n</style>\n<table border=\"1\" class=\"dataframe\">\n  <thead>\n    <tr style=\"text-align: right;\">\n      <th></th>\n      <th>cmt_qty</th>\n      <th>post_qty</th>\n      <th>provocation_ratio</th>\n      <th>lex_count</th>\n      <th>rank1</th>\n      <th>rank2</th>\n      <th>rank3</th>\n      <th>rank4</th>\n    </tr>\n    <tr>\n      <th>profile_id</th>\n      <th></th>\n      <th></th>\n      <th></th>\n      <th></th>\n      <th></th>\n      <th></th>\n      <th></th>\n      <th></th>\n    </tr>\n  </thead>\n  <tbody>\n    <tr>\n      <th>100016344181312</th>\n      <td>9</td>\n      <td>9</td>\n      <td>1.000000</td>\n      <td>5</td>\n      <td>5.000000</td>\n      <td>45</td>\n      <td>0.555556</td>\n      <td>0.555556</td>\n    </tr>\n    <tr>\n      <th>100041595170810</th>\n      <td>8</td>\n      <td>8</td>\n      <td>1.000000</td>\n      <td>4</td>\n      <td>4.000000</td>\n      <td>32</td>\n      <td>0.500000</td>\n      <td>0.500000</td>\n    </tr>\n    <tr>\n      <th>100015944012631</th>\n      <td>5</td>\n      <td>5</td>\n      <td>1.000000</td>\n      <td>2</td>\n      <td>2.000000</td>\n      <td>10</td>\n      <td>0.400000</td>\n      <td>0.400000</td>\n    </tr>\n    <tr>\n      <th>100016930425001</th>\n      <td>9</td>\n      <td>9</td>\n      <td>1.000000</td>\n      <td>3</td>\n      <td>3.000000</td>\n      <td>27</td>\n      <td>0.333333</td>\n      <td>0.333333</td>\n    </tr>\n    <tr>\n      <th>100015101389061</th>\n      <td>6</td>\n      <td>4</td>\n      <td>0.666667</td>\n      <td>3</td>\n      <td>2.000000</td>\n      <td>12</td>\n      <td>0.500000</td>\n      <td>0.333333</td>\n    </tr>\n    <tr>\n      <th>100017790403344</th>\n      <td>11</td>\n      <td>10</td>\n      <td>0.909091</td>\n      <td>4</td>\n      <td>3.636364</td>\n      <td>40</td>\n      <td>0.363636</td>\n      <td>0.330579</td>\n    </tr>\n    <tr>\n      <th>100046162694115</th>\n      <td>5</td>\n      <td>4</td>\n      <td>0.800000</td>\n      <td>2</td>\n      <td>1.600000</td>\n      <td>8</td>\n      <td>0.400000</td>\n      <td>0.320000</td>\n    </tr>\n    <tr>\n      <th>100010285562417</th>\n      <td>6</td>\n      <td>5</td>\n      <td>0.833333</td>\n      <td>2</td>\n      <td>1.666667</td>\n      <td>10</td>\n      <td>0.333333</td>\n      <td>0.277778</td>\n    </tr>\n    <tr>\n      <th>100029101801142</th>\n      <td>6</td>\n      <td>2</td>\n      <td>0.333333</td>\n      <td>5</td>\n      <td>1.666667</td>\n      <td>10</td>\n      <td>0.833333</td>\n      <td>0.277778</td>\n    </tr>\n    <tr>\n      <th>100010831205744</th>\n      <td>10</td>\n      <td>8</td>\n      <td>0.800000</td>\n      <td>3</td>\n      <td>2.400000</td>\n      <td>24</td>\n      <td>0.300000</td>\n      <td>0.240000</td>\n    </tr>\n  </tbody>\n</table>\n</div>"
     },
     "metadata": {},
     "execution_count": 18
    }
   ],
   "source": [
    "top1df['rank4'] = top1df.provocation_ratio * top1df.rank3 #=top1df.rank1 / top1df.cmt_qty\n",
    "top1df.sort_values('rank4', ascending=False).head(10)"
   ]
  },
  {
   "cell_type": "code",
   "execution_count": 19,
   "metadata": {},
   "outputs": [
    {
     "output_type": "stream",
     "name": "stdout",
     "text": "15\n"
    }
   ],
   "source": [
    "N = 40\n",
    "d = [\n",
    "    top1df.sort_values('rank1').tail(N).index,\n",
    "    top1df.sort_values('rank2').tail(N).index,\n",
    "    top1df.sort_values('rank3').tail(N).index,\n",
    "    top1df.sort_values('rank4').tail(N).index\n",
    "]\n",
    "res = list(set.intersection(*map(set, d)))\n",
    "print(len(res))"
   ]
  },
  {
   "cell_type": "code",
   "execution_count": 21,
   "metadata": {},
   "outputs": [],
   "source": [
    "top1df.loc[res,:].to_csv('../results/20200413_20200420_Top40.csv')"
   ]
  },
  {
   "cell_type": "code",
   "execution_count": null,
   "metadata": {},
   "outputs": [],
   "source": []
  }
 ]
}