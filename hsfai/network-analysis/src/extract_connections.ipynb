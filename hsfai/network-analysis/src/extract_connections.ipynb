{
 "cells": [
  {
   "cell_type": "code",
   "execution_count": null,
   "metadata": {},
   "outputs": [],
   "source": []
  },
  {
   "cell_type": "code",
   "execution_count": 1,
   "metadata": {},
   "outputs": [],
   "source": [
    "import pandas as pd\n",
    "import sys\n",
    "sys.path.append('/home/bupi/Documents/pdy/hs/hsle/src')\n",
    "import HsleCandidateGenerationUtils as hsle\n",
    "import itertools\n",
    "from tqdm import tqdm"
   ]
  },
  {
   "cell_type": "code",
   "execution_count": 2,
   "metadata": {},
   "outputs": [
    {
     "output_type": "stream",
     "name": "stdout",
     "text": "(58725, 16)\n"
    },
    {
     "output_type": "display_data",
     "data": {
      "text/plain": "   cId  nId Name (click to view profile)           Profile ID  \\\n0    1    0                         Nunu  ID: 100004238449395   \n1    3    0                      Nyi Nyi  ID: 100046335742147   \n\n                  Date  Likes  \\\n0  2020-03-24 13:01:38      1   \n1  2020-03-24 13:02:29      2   \n\n                                             Comment (view source)  \\\n0                           အမေစုသက်ရှည်ကျန်းမာပါစေ🙏  view comment   \n1  Educating people is essential.. Teach people t...  view comment   \n\n          postId  nChars                                             MsgUni  \\\n0  25032020_0072      24                           အမေစုသက်ရှည်ကျန်းမာပါစေ🙏   \n1  25032020_0072     289  Educating people is essential.. Teach people t...   \n\n   atleast1MM                                          MsgUniSeg LexFound  \\\n0        True                     အမေ စု သက် ရှည် ကျန်းမာ ပါစေ 🙏      NaN   \n1       False  Educatingpeopleisessential..Teachpeopletodofre...      NaN   \n\n                                             PostURL     name  \n0  https://www.facebook.com/7daynews/posts/315261...     Nunu  \n1  https://www.facebook.com/7daynews/posts/315261...  Nyi Nyi  ",
      "text/html": "<div>\n<style scoped>\n    .dataframe tbody tr th:only-of-type {\n        vertical-align: middle;\n    }\n\n    .dataframe tbody tr th {\n        vertical-align: top;\n    }\n\n    .dataframe thead th {\n        text-align: right;\n    }\n</style>\n<table border=\"1\" class=\"dataframe\">\n  <thead>\n    <tr style=\"text-align: right;\">\n      <th></th>\n      <th>cId</th>\n      <th>nId</th>\n      <th>Name (click to view profile)</th>\n      <th>Profile ID</th>\n      <th>Date</th>\n      <th>Likes</th>\n      <th>Comment</th>\n      <th>(view source)</th>\n      <th>postId</th>\n      <th>nChars</th>\n      <th>MsgUni</th>\n      <th>atleast1MM</th>\n      <th>MsgUniSeg</th>\n      <th>LexFound</th>\n      <th>PostURL</th>\n      <th>name</th>\n    </tr>\n  </thead>\n  <tbody>\n    <tr>\n      <th>0</th>\n      <td>1</td>\n      <td>0</td>\n      <td>Nunu</td>\n      <td>ID: 100004238449395</td>\n      <td>2020-03-24 13:01:38</td>\n      <td>1</td>\n      <td>အမေစုသက်ရှည်ကျန်းမာပါစေ🙏</td>\n      <td>view comment</td>\n      <td>25032020_0072</td>\n      <td>24</td>\n      <td>အမေစုသက်ရှည်ကျန်းမာပါစေ🙏</td>\n      <td>True</td>\n      <td>အမေ စု သက် ရှည် ကျန်းမာ ပါစေ 🙏</td>\n      <td>NaN</td>\n      <td>https://www.facebook.com/7daynews/posts/315261...</td>\n      <td>Nunu</td>\n    </tr>\n    <tr>\n      <th>1</th>\n      <td>3</td>\n      <td>0</td>\n      <td>Nyi Nyi</td>\n      <td>ID: 100046335742147</td>\n      <td>2020-03-24 13:02:29</td>\n      <td>2</td>\n      <td>Educating people is essential.. Teach people t...</td>\n      <td>view comment</td>\n      <td>25032020_0072</td>\n      <td>289</td>\n      <td>Educating people is essential.. Teach people t...</td>\n      <td>False</td>\n      <td>Educatingpeopleisessential..Teachpeopletodofre...</td>\n      <td>NaN</td>\n      <td>https://www.facebook.com/7daynews/posts/315261...</td>\n      <td>Nyi Nyi</td>\n    </tr>\n  </tbody>\n</table>\n</div>"
     },
     "metadata": {}
    }
   ],
   "source": [
    "fn = '/home/bupi/Documents/pdy/hs/hsle/data/exportcomments-outputs/20200323_20200325/processed/merged.csv'\n",
    "df = pd.read_csv(fn)\n",
    "df['name'] = hsle.uniNorm(df['Name (click to view profile)'].astype(str))\n",
    "print(df.shape)\n",
    "display(df.head(2))"
   ]
  },
  {
   "cell_type": "markdown",
   "metadata": {},
   "source": [
    "## Grab DF"
   ]
  },
  {
   "cell_type": "code",
   "execution_count": 4,
   "metadata": {},
   "outputs": [
    {
     "output_type": "execute_result",
     "data": {
      "text/plain": "          postid  cid  nid     name       profile_id lex_found\n0  25032020_0072    1    0     Nunu  100004238449395       NaN\n1  25032020_0072    3    0  Nyi Nyi  100046335742147       NaN",
      "text/html": "<div>\n<style scoped>\n    .dataframe tbody tr th:only-of-type {\n        vertical-align: middle;\n    }\n\n    .dataframe tbody tr th {\n        vertical-align: top;\n    }\n\n    .dataframe thead th {\n        text-align: right;\n    }\n</style>\n<table border=\"1\" class=\"dataframe\">\n  <thead>\n    <tr style=\"text-align: right;\">\n      <th></th>\n      <th>postid</th>\n      <th>cid</th>\n      <th>nid</th>\n      <th>name</th>\n      <th>profile_id</th>\n      <th>lex_found</th>\n    </tr>\n  </thead>\n  <tbody>\n    <tr>\n      <th>0</th>\n      <td>25032020_0072</td>\n      <td>1</td>\n      <td>0</td>\n      <td>Nunu</td>\n      <td>100004238449395</td>\n      <td>NaN</td>\n    </tr>\n    <tr>\n      <th>1</th>\n      <td>25032020_0072</td>\n      <td>3</td>\n      <td>0</td>\n      <td>Nyi Nyi</td>\n      <td>100046335742147</td>\n      <td>NaN</td>\n    </tr>\n  </tbody>\n</table>\n</div>"
     },
     "metadata": {},
     "execution_count": 4
    }
   ],
   "source": [
    "activity_df = df[['postId','cId','nId','name','Profile ID', 'LexFound']]\n",
    "activity_df.columns = ['postid','cid','nid','name','profile_id', 'lex_found']\n",
    "activity_df['profile_id'] = activity_df.profile_id.apply(lambda x:x.split()[-1])\n",
    "activity_df.head(2)"
   ]
  },
  {
   "cell_type": "markdown",
   "metadata": {},
   "source": [
    "## Accounts"
   ]
  },
  {
   "cell_type": "code",
   "execution_count": 6,
   "metadata": {},
   "outputs": [
    {
     "output_type": "stream",
     "name": "stdout",
     "text": "(58725, 6)\n(44114, 2)\n"
    },
    {
     "output_type": "display_data",
     "data": {
      "text/plain": "        profile_id     name\n0  100004238449395     Nunu\n1  100046335742147  Nyi Nyi",
      "text/html": "<div>\n<style scoped>\n    .dataframe tbody tr th:only-of-type {\n        vertical-align: middle;\n    }\n\n    .dataframe tbody tr th {\n        vertical-align: top;\n    }\n\n    .dataframe thead th {\n        text-align: right;\n    }\n</style>\n<table border=\"1\" class=\"dataframe\">\n  <thead>\n    <tr style=\"text-align: right;\">\n      <th></th>\n      <th>profile_id</th>\n      <th>name</th>\n    </tr>\n  </thead>\n  <tbody>\n    <tr>\n      <th>0</th>\n      <td>100004238449395</td>\n      <td>Nunu</td>\n    </tr>\n    <tr>\n      <th>1</th>\n      <td>100046335742147</td>\n      <td>Nyi Nyi</td>\n    </tr>\n  </tbody>\n</table>\n</div>"
     },
     "metadata": {}
    }
   ],
   "source": [
    "accounts_df = activity_df[['name','profile_id']].drop_duplicates(['profile_id'])\n",
    "print(activity_df.shape)\n",
    "print(accounts_df.shape)\n",
    "accounts_df = accounts_df[['profile_id','name']]\n",
    "display(accounts_df.head(2))\n",
    "accounts_df.to_csv('../results/networks/20200403_20200405_accounts.csv', sep='|', index=False)"
   ]
  },
  {
   "cell_type": "markdown",
   "metadata": {},
   "source": [
    "## Connections\n",
    "### Link by Comment Thread\n",
    "\n",
    "Accounts that comment under the same comment are considered connected."
   ]
  },
  {
   "cell_type": "code",
   "execution_count": 8,
   "metadata": {},
   "outputs": [
    {
     "output_type": "stream",
     "name": "stderr",
     "text": "58725it [00:00, 597439.35it/s]\n"
    }
   ],
   "source": [
    "activity_df['id_name'] = [i+'|'+n for i,n in zip(activity_df.profile_id, activity_df.name)]\n",
    "common_thread_link = activity_df.groupby(\n",
    "    ['postid','cid'])['id_name'].apply(lambda x: ','.join(x))"
   ]
  },
  {
   "cell_type": "code",
   "execution_count": 9,
   "metadata": {},
   "outputs": [
    {
     "output_type": "stream",
     "name": "stderr",
     "text": "100%|██████████| 49243/49243 [00:00<00:00, 340923.16it/s]\n"
    }
   ],
   "source": [
    "source, target = [], []\n",
    "for cohort in tqdm(common_thread_link.values):\n",
    "    for s, t in itertools.combinations(cohort.split(','), 2):\n",
    "        source.append(s)\n",
    "        target.append(t)"
   ]
  },
  {
   "cell_type": "code",
   "execution_count": 10,
   "metadata": {},
   "outputs": [
    {
     "output_type": "execute_result",
     "data": {
      "text/plain": "                       source                    target\n0  100049298942225|Thway Thit   100010925860347|Nay Myo\n1  100049298942225|Thway Thit  100017952098805|Shwe Mar",
      "text/html": "<div>\n<style scoped>\n    .dataframe tbody tr th:only-of-type {\n        vertical-align: middle;\n    }\n\n    .dataframe tbody tr th {\n        vertical-align: top;\n    }\n\n    .dataframe thead th {\n        text-align: right;\n    }\n</style>\n<table border=\"1\" class=\"dataframe\">\n  <thead>\n    <tr style=\"text-align: right;\">\n      <th></th>\n      <th>source</th>\n      <th>target</th>\n    </tr>\n  </thead>\n  <tbody>\n    <tr>\n      <th>0</th>\n      <td>100049298942225|Thway Thit</td>\n      <td>100010925860347|Nay Myo</td>\n    </tr>\n    <tr>\n      <th>1</th>\n      <td>100049298942225|Thway Thit</td>\n      <td>100017952098805|Shwe Mar</td>\n    </tr>\n  </tbody>\n</table>\n</div>"
     },
     "metadata": {},
     "execution_count": 10
    }
   ],
   "source": [
    "comment_thread_edges = pd.DataFrame({\n",
    "    'source': source,\n",
    "    'target': target\n",
    "})\n",
    "comment_thread_edges.to_csv(\n",
    "    '../results/networks/20200403_20200405_comment_thread_edges.csv', index=False)\n",
    "comment_thread_edges.head(2)"
   ]
  },
  {
   "cell_type": "code",
   "execution_count": 11,
   "metadata": {},
   "outputs": [
    {
     "output_type": "execute_result",
     "data": {
      "text/plain": "source\n100010233370110|Yan Naing Win      457\n100030055881958|Thar Shwe Toke     418\n100014670192351|Thura Ye Yint      273\n100013695460874|Saw Soe Moe Han    264\n100026402544012|Thaw Zin           240\n                                  ... \n100017962271588|Yee Yee              1\n100017954734886|Hnin Nu Nu Wai       1\n100017836024246|Nwe Nwe              1\n100017796042457|Aung Soe Minn        1\n100018206552433|Mu Ngwe Winn         1\nName: target, Length: 6654, dtype: int64"
     },
     "metadata": {},
     "execution_count": 11
    }
   ],
   "source": [
    "comment_thread_edges.groupby('source')['target'].count().sort_values(ascending=False)"
   ]
  },
  {
   "cell_type": "code",
   "execution_count": null,
   "metadata": {},
   "outputs": [],
   "source": []
  }
 ],
 "metadata": {
  "language_info": {
   "name": "python",
   "codemirror_mode": {
    "name": "ipython",
    "version": 3
   },
   "version": "3.7.6-final"
  },
  "orig_nbformat": 2,
  "file_extension": ".py",
  "mimetype": "text/x-python",
  "name": "python",
  "npconvert_exporter": "python",
  "pygments_lexer": "ipython3",
  "version": 3,
  "kernelspec": {
   "name": "python3",
   "display_name": "Python 3"
  }
 },
 "nbformat": 4,
 "nbformat_minor": 2
}