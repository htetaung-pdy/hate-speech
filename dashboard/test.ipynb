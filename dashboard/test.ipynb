{
 "nbformat": 4,
 "nbformat_minor": 2,
 "metadata": {
  "language_info": {
   "name": "python",
   "codemirror_mode": {
    "name": "ipython",
    "version": 3
   },
   "version": "3.7.6-final"
  },
  "orig_nbformat": 2,
  "file_extension": ".py",
  "mimetype": "text/x-python",
  "name": "python",
  "npconvert_exporter": "python",
  "pygments_lexer": "ipython3",
  "version": 3,
  "kernelspec": {
   "name": "python3",
   "display_name": "Python 3"
  }
 },
 "cells": [
  {
   "cell_type": "code",
   "execution_count": 1,
   "metadata": {},
   "outputs": [
    {
     "output_type": "stream",
     "name": "stdout",
     "text": "8\n"
    }
   ],
   "source": [
    "import pandas as pd\n",
    "import numpy as np\n",
    "from importlib import reload\n",
    "import HateSpeechAggregator as hsa\n",
    "reload(hsa)\n",
    "from glob import glob\n",
    "from scipy.stats import chi2_contingency\n",
    "\n",
    "\n",
    "files = glob('/home/bupi/Documents/pdy/hs/dashboard/clean/comments/*.csv')\n",
    "files.sort()\n",
    "print(len(files))\n",
    "\n",
    "# res = hsa.load_df(files[0], pd.datetime(2020,1,1,), pd.datetime(2020,12,12))"
   ]
  },
  {
   "cell_type": "code",
   "execution_count": 20,
   "metadata": {},
   "outputs": [],
   "source": [
    "df = hsa.load_df(files[0], pd.datetime(2020,1,1), pd.datetime(2020,12,12))"
   ]
  },
  {
   "cell_type": "code",
   "execution_count": 21,
   "metadata": {},
   "outputs": [
    {
     "output_type": "execute_result",
     "data": {
      "text/plain": "        profile_id            datetime  likes  \\\n0  100004238449395 2020-03-24 13:01:38      1   \n1  100046335742147 2020-03-24 13:02:29      2   \n\n                                     comment_message lex_found  \\\n0                     အမေ စု သက် ရှည် ကျန်းမာ ပါစေ 🙏       NaN   \n1  Educatingpeopleisessential..Teachpeopletodofre...       NaN   \n\n                                            post_url topics_found  \\\n0  https://www.facebook.com/7daynews/posts/315261...           []   \n1  https://www.facebook.com/7daynews/posts/315261...           []   \n\n           page_name lex_found_post  \n0  7Day News Journal            NaN  \n1  7Day News Journal            NaN  ",
      "text/html": "<div>\n<style scoped>\n    .dataframe tbody tr th:only-of-type {\n        vertical-align: middle;\n    }\n\n    .dataframe tbody tr th {\n        vertical-align: top;\n    }\n\n    .dataframe thead th {\n        text-align: right;\n    }\n</style>\n<table border=\"1\" class=\"dataframe\">\n  <thead>\n    <tr style=\"text-align: right;\">\n      <th></th>\n      <th>profile_id</th>\n      <th>datetime</th>\n      <th>likes</th>\n      <th>comment_message</th>\n      <th>lex_found</th>\n      <th>post_url</th>\n      <th>topics_found</th>\n      <th>page_name</th>\n      <th>lex_found_post</th>\n    </tr>\n  </thead>\n  <tbody>\n    <tr>\n      <th>0</th>\n      <td>100004238449395</td>\n      <td>2020-03-24 13:01:38</td>\n      <td>1</td>\n      <td>အမေ စု သက် ရှည် ကျန်းမာ ပါစေ 🙏</td>\n      <td>NaN</td>\n      <td>https://www.facebook.com/7daynews/posts/315261...</td>\n      <td>[]</td>\n      <td>7Day News Journal</td>\n      <td>NaN</td>\n    </tr>\n    <tr>\n      <th>1</th>\n      <td>100046335742147</td>\n      <td>2020-03-24 13:02:29</td>\n      <td>2</td>\n      <td>Educatingpeopleisessential..Teachpeopletodofre...</td>\n      <td>NaN</td>\n      <td>https://www.facebook.com/7daynews/posts/315261...</td>\n      <td>[]</td>\n      <td>7Day News Journal</td>\n      <td>NaN</td>\n    </tr>\n  </tbody>\n</table>\n</div>"
     },
     "metadata": {},
     "execution_count": 21
    }
   ],
   "source": [
    "df.head(2)"
   ]
  },
  {
   "cell_type": "code",
   "execution_count": 4,
   "metadata": {},
   "outputs": [
    {
     "output_type": "stream",
     "name": "stdout",
     "text": "(58725, 6) (400, 13)\n"
    }
   ],
   "source": [
    "f = files[0]\n",
    "cmt = pd.read_csv(f)\n",
    "pst = pd.read_csv(f.replace('comments','posts'))\n",
    "print(cmt.shape, pst.shape)\n",
    "jnd = cmt.merge(pst, on='post_url', how='left', suffixes=('_cmt','_pst'))"
   ]
  },
  {
   "cell_type": "code",
   "execution_count": 5,
   "metadata": {},
   "outputs": [
    {
     "output_type": "stream",
     "name": "stdout",
     "text": "Index(['profile_id', 'datetime', 'likes_cmt', 'comment_message',\n       'lex_found_cmt', 'post_url', 'page_name', 'likes_pst', 'comments',\n       'shares', 'love', 'wow', 'haha', 'sad', 'angry', 'thankful',\n       'post_message', 'lex_found_pst'],\n      dtype='object')\n"
    }
   ],
   "source": [
    "print(jnd.columns)"
   ]
  },
  {
   "cell_type": "code",
   "execution_count": 23,
   "metadata": {},
   "outputs": [
    {
     "output_type": "execute_result",
     "data": {
      "text/plain": "                         has_lex   total     ratio\npage_name                                         \nDevelopment Media Group    101.0   421.0  0.239905\nKhit Thit Media            362.0  2658.0  0.136193\nသတင်းပေါင်းချုပ်             1.0     8.0  0.125000\nThe Ladies News             54.0   539.0  0.100186\nKumudra                    135.0  1719.0  0.078534",
      "text/html": "<div>\n<style scoped>\n    .dataframe tbody tr th:only-of-type {\n        vertical-align: middle;\n    }\n\n    .dataframe tbody tr th {\n        vertical-align: top;\n    }\n\n    .dataframe thead th {\n        text-align: right;\n    }\n</style>\n<table border=\"1\" class=\"dataframe\">\n  <thead>\n    <tr style=\"text-align: right;\">\n      <th></th>\n      <th>has_lex</th>\n      <th>total</th>\n      <th>ratio</th>\n    </tr>\n    <tr>\n      <th>page_name</th>\n      <th></th>\n      <th></th>\n      <th></th>\n    </tr>\n  </thead>\n  <tbody>\n    <tr>\n      <th>Development Media Group</th>\n      <td>101.0</td>\n      <td>421.0</td>\n      <td>0.239905</td>\n    </tr>\n    <tr>\n      <th>Khit Thit Media</th>\n      <td>362.0</td>\n      <td>2658.0</td>\n      <td>0.136193</td>\n    </tr>\n    <tr>\n      <th>သတင်းပေါင်းချုပ်</th>\n      <td>1.0</td>\n      <td>8.0</td>\n      <td>0.125000</td>\n    </tr>\n    <tr>\n      <th>The Ladies News</th>\n      <td>54.0</td>\n      <td>539.0</td>\n      <td>0.100186</td>\n    </tr>\n    <tr>\n      <th>Kumudra</th>\n      <td>135.0</td>\n      <td>1719.0</td>\n      <td>0.078534</td>\n    </tr>\n  </tbody>\n</table>\n</div>"
     },
     "metadata": {},
     "execution_count": 23
    }
   ],
   "source": [
    "jnd['has_lex'] = ~jnd.lex_found_x.isna()\n",
    "lex_count = jnd.groupby('page_name')['has_lex'].sum()\n",
    "total = jnd.groupby('page_name')['page_name'].count()\n",
    "total.name = 'total'\n",
    "page_hs_ratio = pd.DataFrame([lex_count, total]).T\n",
    "page_hs_ratio['ratio'] = page_hs_ratio.has_lex / page_hs_ratio.total\n",
    "page_hs_ratio.sort_values('ratio', ascending=False, inplace=True)\n",
    "page_hs_ratio.head()"
   ]
  },
  {
   "cell_type": "code",
   "execution_count": 8,
   "metadata": {},
   "outputs": [
    {
     "output_type": "stream",
     "name": "stdout",
     "text": "(54766, 18) (3959, 18)\n"
    }
   ],
   "source": [
    "posts_wlex = jnd.loc[~jnd.lex_found_pst.isna(), :]\n",
    "posts_nlex = jnd.loc[jnd.lex_found_pst.isna(), :]\n",
    "print(posts_nlex.shape, posts_wlex.shape)"
   ]
  },
  {
   "cell_type": "code",
   "execution_count": 12,
   "metadata": {},
   "outputs": [
    {
     "output_type": "execute_result",
     "data": {
      "text/plain": "   has_lex  number_of_pages  comment_wlex  cmement_nlex\n0     True             3959           880          3079\n1    False            54766          1203         53563",
      "text/html": "<div>\n<style scoped>\n    .dataframe tbody tr th:only-of-type {\n        vertical-align: middle;\n    }\n\n    .dataframe tbody tr th {\n        vertical-align: top;\n    }\n\n    .dataframe thead th {\n        text-align: right;\n    }\n</style>\n<table border=\"1\" class=\"dataframe\">\n  <thead>\n    <tr style=\"text-align: right;\">\n      <th></th>\n      <th>has_lex</th>\n      <th>number_of_pages</th>\n      <th>comment_wlex</th>\n      <th>cmement_nlex</th>\n    </tr>\n  </thead>\n  <tbody>\n    <tr>\n      <th>0</th>\n      <td>True</td>\n      <td>3959</td>\n      <td>880</td>\n      <td>3079</td>\n    </tr>\n    <tr>\n      <th>1</th>\n      <td>False</td>\n      <td>54766</td>\n      <td>1203</td>\n      <td>53563</td>\n    </tr>\n  </tbody>\n</table>\n</div>"
     },
     "metadata": {},
     "execution_count": 12
    }
   ],
   "source": [
    "pwl_cwl = posts_wlex.lex_found_cmt.count()\n",
    "pwl_cnl = posts_wlex.shape[0] - pwl_cwl\n",
    "pnl_cwl = posts_nlex.lex_found_cmt.count()\n",
    "pnl_cnl = posts_nlex.shape[0] - pnl_cwl\n",
    "hspost_effect_df = pd.DataFrame({\n",
    "    'has_lex': [True, False],\n",
    "    'number_of_pages': [posts_wlex.shape[0], posts_nlex.shape[0]],\n",
    "    'comment_wlex': [pwl_cwl, pnl_cwl],\n",
    "    'cmement_nlex': [pwl_cnl, pnl_cnl]\n",
    "})\n",
    "hspost_effect_df"
   ]
  },
  {
   "cell_type": "code",
   "execution_count": 32,
   "metadata": {},
   "outputs": [],
   "source": [
    "x = pd.read_csv('/home/bupi/Documents/pdy/hs/dashboard/clean/aggregated/20200420115700/hspost-effect.csv')\n",
    "x = x.groupby(['post_has_lex','comment_has_lex'])['count'].sum()\n",
    "y = chi2_contingency(x.unstack())"
   ]
  },
  {
   "cell_type": "code",
   "execution_count": 34,
   "metadata": {},
   "outputs": [
    {
     "output_type": "execute_result",
     "data": {
      "text/plain": "0.0"
     },
     "metadata": {},
     "execution_count": 34
    }
   ],
   "source": [
    "y[1]"
   ]
  },
  {
   "cell_type": "code",
   "execution_count": 5,
   "metadata": {},
   "outputs": [
    {
     "output_type": "execute_result",
     "data": {
      "text/plain": "         post_id  c_id  n_id       profile_id             datetime  likes  \\\n0  25032020_0072     1     0  100004238449395  2020-03-24 13:01:38      1   \n1  25032020_0072     3     0  100046335742147  2020-03-24 13:02:29      2   \n\n                                     comment_message lex_found  \\\n0                     အမေ စု သက် ရှည် ကျန်းမာ ပါစေ 🙏       NaN   \n1  Educatingpeopleisessential..Teachpeopletodofre...       NaN   \n\n                                            post_url  \n0  https://www.facebook.com/7daynews/posts/315261...  \n1  https://www.facebook.com/7daynews/posts/315261...  ",
      "text/html": "<div>\n<style scoped>\n    .dataframe tbody tr th:only-of-type {\n        vertical-align: middle;\n    }\n\n    .dataframe tbody tr th {\n        vertical-align: top;\n    }\n\n    .dataframe thead th {\n        text-align: right;\n    }\n</style>\n<table border=\"1\" class=\"dataframe\">\n  <thead>\n    <tr style=\"text-align: right;\">\n      <th></th>\n      <th>post_id</th>\n      <th>c_id</th>\n      <th>n_id</th>\n      <th>profile_id</th>\n      <th>datetime</th>\n      <th>likes</th>\n      <th>comment_message</th>\n      <th>lex_found</th>\n      <th>post_url</th>\n    </tr>\n  </thead>\n  <tbody>\n    <tr>\n      <th>0</th>\n      <td>25032020_0072</td>\n      <td>1</td>\n      <td>0</td>\n      <td>100004238449395</td>\n      <td>2020-03-24 13:01:38</td>\n      <td>1</td>\n      <td>အမေ စု သက် ရှည် ကျန်းမာ ပါစေ 🙏</td>\n      <td>NaN</td>\n      <td>https://www.facebook.com/7daynews/posts/315261...</td>\n    </tr>\n    <tr>\n      <th>1</th>\n      <td>25032020_0072</td>\n      <td>3</td>\n      <td>0</td>\n      <td>100046335742147</td>\n      <td>2020-03-24 13:02:29</td>\n      <td>2</td>\n      <td>Educatingpeopleisessential..Teachpeopletodofre...</td>\n      <td>NaN</td>\n      <td>https://www.facebook.com/7daynews/posts/315261...</td>\n    </tr>\n  </tbody>\n</table>\n</div>"
     },
     "metadata": {},
     "execution_count": 5
    }
   ],
   "source": [
    "x = pd.read_csv(files[0])\n",
    "x.head(2)"
   ]
  },
  {
   "cell_type": "code",
   "execution_count": 8,
   "metadata": {},
   "outputs": [
    {
     "output_type": "stream",
     "name": "stdout",
     "text": "(49243,)\n(3307,)\n"
    }
   ],
   "source": [
    "reply_df = x.groupby(['post_id','c_id'])['c_id'].count()\n",
    "print(reply_df.shape)\n",
    "reply_df = reply_df[reply_df>1]\n",
    "print(reply_df.shape)"
   ]
  },
  {
   "cell_type": "code",
   "execution_count": 33,
   "metadata": {},
   "outputs": [
    {
     "output_type": "stream",
     "name": "stdout",
     "text": "3307\n"
    },
    {
     "output_type": "execute_result",
     "data": {
      "text/plain": "         post_id  c_id  n_id       profile_id             datetime  likes  \\\n0  25032020_0072     1     0  100004238449395  2020-03-24 13:01:38      1   \n1  25032020_0072     3     0  100046335742147  2020-03-24 13:02:29      2   \n\n                                     comment_message lex_found  \\\n0                     အမေ စု သက် ရှည် ကျန်းမာ ပါစေ 🙏       NaN   \n1  Educatingpeopleisessential..Teachpeopletodofre...       NaN   \n\n                                            post_url              pc_id  \n0  https://www.facebook.com/7daynews/posts/315261...  25032020_00720001  \n1  https://www.facebook.com/7daynews/posts/315261...  25032020_00720003  ",
      "text/html": "<div>\n<style scoped>\n    .dataframe tbody tr th:only-of-type {\n        vertical-align: middle;\n    }\n\n    .dataframe tbody tr th {\n        vertical-align: top;\n    }\n\n    .dataframe thead th {\n        text-align: right;\n    }\n</style>\n<table border=\"1\" class=\"dataframe\">\n  <thead>\n    <tr style=\"text-align: right;\">\n      <th></th>\n      <th>post_id</th>\n      <th>c_id</th>\n      <th>n_id</th>\n      <th>profile_id</th>\n      <th>datetime</th>\n      <th>likes</th>\n      <th>comment_message</th>\n      <th>lex_found</th>\n      <th>post_url</th>\n      <th>pc_id</th>\n    </tr>\n  </thead>\n  <tbody>\n    <tr>\n      <th>0</th>\n      <td>25032020_0072</td>\n      <td>1</td>\n      <td>0</td>\n      <td>100004238449395</td>\n      <td>2020-03-24 13:01:38</td>\n      <td>1</td>\n      <td>အမေ စု သက် ရှည် ကျန်းမာ ပါစေ 🙏</td>\n      <td>NaN</td>\n      <td>https://www.facebook.com/7daynews/posts/315261...</td>\n      <td>25032020_00720001</td>\n    </tr>\n    <tr>\n      <th>1</th>\n      <td>25032020_0072</td>\n      <td>3</td>\n      <td>0</td>\n      <td>100046335742147</td>\n      <td>2020-03-24 13:02:29</td>\n      <td>2</td>\n      <td>Educatingpeopleisessential..Teachpeopletodofre...</td>\n      <td>NaN</td>\n      <td>https://www.facebook.com/7daynews/posts/315261...</td>\n      <td>25032020_00720003</td>\n    </tr>\n  </tbody>\n</table>\n</div>"
     },
     "metadata": {},
     "execution_count": 33
    }
   ],
   "source": [
    "pc_ids = []\n",
    "for (post_id,c_id),_ in reply_df.iteritems():\n",
    "    pc_ids.append(post_id + str(c_id).zfill(4))\n",
    "pc_ids = set(pc_ids)\n",
    "print(len(pc_ids))\n",
    "x['pc_id'] = [p+str(c).zfill(4) for p,c in zip(x.post_id, x.c_id)]\n",
    "x.head(2)"
   ]
  },
  {
   "cell_type": "code",
   "execution_count": 35,
   "metadata": {},
   "outputs": [
    {
     "output_type": "stream",
     "name": "stdout",
     "text": "(12789, 10)\n"
    },
    {
     "output_type": "display_data",
     "data": {
      "text/plain": "         post_id  c_id  n_id       profile_id             datetime  likes  \\\n3  25032020_0072     5     0  100044448832921  2020-03-24 13:03:50     12   \n4  25032020_0072     5     1  100045388926874  2020-03-24 13:14:18      6   \n\n                               comment_message lex_found  \\\n3              အပြော က စကော လက်တွေ့ က ဇီး ရွက်       NaN   \n4  AungSoe မင်း ပထွေး စစ်ခွေး နဲ့ တော့ ကွာ တယ်   စစ်ခွေး   \n\n                                            post_url              pc_id  \n3  https://www.facebook.com/7daynews/posts/315261...  25032020_00720005  \n4  https://www.facebook.com/7daynews/posts/315261...  25032020_00720005  ",
      "text/html": "<div>\n<style scoped>\n    .dataframe tbody tr th:only-of-type {\n        vertical-align: middle;\n    }\n\n    .dataframe tbody tr th {\n        vertical-align: top;\n    }\n\n    .dataframe thead th {\n        text-align: right;\n    }\n</style>\n<table border=\"1\" class=\"dataframe\">\n  <thead>\n    <tr style=\"text-align: right;\">\n      <th></th>\n      <th>post_id</th>\n      <th>c_id</th>\n      <th>n_id</th>\n      <th>profile_id</th>\n      <th>datetime</th>\n      <th>likes</th>\n      <th>comment_message</th>\n      <th>lex_found</th>\n      <th>post_url</th>\n      <th>pc_id</th>\n    </tr>\n  </thead>\n  <tbody>\n    <tr>\n      <th>3</th>\n      <td>25032020_0072</td>\n      <td>5</td>\n      <td>0</td>\n      <td>100044448832921</td>\n      <td>2020-03-24 13:03:50</td>\n      <td>12</td>\n      <td>အပြော က စကော လက်တွေ့ က ဇီး ရွက်</td>\n      <td>NaN</td>\n      <td>https://www.facebook.com/7daynews/posts/315261...</td>\n      <td>25032020_00720005</td>\n    </tr>\n    <tr>\n      <th>4</th>\n      <td>25032020_0072</td>\n      <td>5</td>\n      <td>1</td>\n      <td>100045388926874</td>\n      <td>2020-03-24 13:14:18</td>\n      <td>6</td>\n      <td>AungSoe မင်း ပထွေး စစ်ခွေး နဲ့ တော့ ကွာ တယ်</td>\n      <td>စစ်ခွေး</td>\n      <td>https://www.facebook.com/7daynews/posts/315261...</td>\n      <td>25032020_00720005</td>\n    </tr>\n  </tbody>\n</table>\n</div>"
     },
     "metadata": {}
    }
   ],
   "source": [
    "repdf = x.loc[x.pc_id.isin(pc_ids)]\n",
    "print(repdf.shape)\n",
    "display(repdf.head(2))"
   ]
  },
  {
   "cell_type": "markdown",
   "metadata": {},
   "source": [
    "## split first comments into 2--wl and nl"
   ]
  },
  {
   "cell_type": "code",
   "execution_count": 36,
   "metadata": {},
   "outputs": [
    {
     "output_type": "stream",
     "name": "stdout",
     "text": "(3263, 10)\n"
    }
   ],
   "source": [
    "nis0 = repdf.loc[repdf.n_id==0]\n",
    "print(nis0.shape)"
   ]
  },
  {
   "cell_type": "code",
   "execution_count": 37,
   "metadata": {},
   "outputs": [
    {
     "output_type": "stream",
     "name": "stdout",
     "text": "(198, 10) (3065, 10)\n"
    }
   ],
   "source": [
    "first_comment_nl = nis0.loc[nis0.lex_found.isna()]\n",
    "first_comment_wl = nis0.loc[~nis0.lex_found.isna()]\n",
    "print(first_comment_wl.shape, first_comment_nl.shape)"
   ]
  },
  {
   "cell_type": "code",
   "execution_count": 41,
   "metadata": {},
   "outputs": [
    {
     "output_type": "stream",
     "name": "stdout",
     "text": "(680, 10) (8846, 10)\n"
    }
   ],
   "source": [
    "first_cwl = repdf.loc[np.logical_and(repdf.pc_id.isin(first_comment_wl.pc_id), repdf.n_id>0),:]\n",
    "first_cnl = repdf.loc[np.logical_and(~repdf.pc_id.isin(first_comment_wl.pc_id), repdf.n_id>0),:]\n",
    "print(first_cwl.shape, first_cnl.shape)\n",
    "# first_comment_wl.head()"
   ]
  },
  {
   "cell_type": "code",
   "execution_count": 42,
   "metadata": {},
   "outputs": [
    {
     "output_type": "execute_result",
     "data": {
      "text/plain": "       first_comment_has_lex      reply_has_lex  count\n0     First Comment with HSL     Reply with HSL    132\n1     First Comment with HSL  Reply with no HSL    548\n2  First Comment with no HSL     Reply with HSL    352\n3  First Comment with no HSL  Reply with no HSL   8494",
      "text/html": "<div>\n<style scoped>\n    .dataframe tbody tr th:only-of-type {\n        vertical-align: middle;\n    }\n\n    .dataframe tbody tr th {\n        vertical-align: top;\n    }\n\n    .dataframe thead th {\n        text-align: right;\n    }\n</style>\n<table border=\"1\" class=\"dataframe\">\n  <thead>\n    <tr style=\"text-align: right;\">\n      <th></th>\n      <th>first_comment_has_lex</th>\n      <th>reply_has_lex</th>\n      <th>count</th>\n    </tr>\n  </thead>\n  <tbody>\n    <tr>\n      <th>0</th>\n      <td>First Comment with HSL</td>\n      <td>Reply with HSL</td>\n      <td>132</td>\n    </tr>\n    <tr>\n      <th>1</th>\n      <td>First Comment with HSL</td>\n      <td>Reply with no HSL</td>\n      <td>548</td>\n    </tr>\n    <tr>\n      <th>2</th>\n      <td>First Comment with no HSL</td>\n      <td>Reply with HSL</td>\n      <td>352</td>\n    </tr>\n    <tr>\n      <th>3</th>\n      <td>First Comment with no HSL</td>\n      <td>Reply with no HSL</td>\n      <td>8494</td>\n    </tr>\n  </tbody>\n</table>\n</div>"
     },
     "metadata": {},
     "execution_count": 42
    }
   ],
   "source": [
    "fcwl_nwl = first_cwl.lex_found.count()\n",
    "fcwl_nnl = first_cwl.shape[0] - fcwl_nwl\n",
    "fcnl_nwl = first_cnl.lex_found.count()\n",
    "fcnl_nnl = first_cnl.shape[0] - fcnl_nwl\n",
    "hsfirst_comment_effect = pd.DataFrame({\n",
    "    'first_comment_has_lex': ['First Comment with HSL','First Comment with HSL','First Comment with no HSL','First Comment with no HSL'],\n",
    "    'reply_has_lex': ['Reply with HSL','Reply with no HSL','Reply with HSL','Reply with no HSL'],\n",
    "    'count': [fcwl_nwl, fcwl_nnl, fcnl_nwl, fcnl_nnl]\n",
    "})\n",
    "hsfirst_comment_effect"
   ]
  },
  {
   "cell_type": "code",
   "execution_count": 50,
   "metadata": {},
   "outputs": [
    {
     "output_type": "execute_result",
     "data": {
      "text/plain": "(308.6489116428305,\n 4.3008296107630825e-69,\n 1,\n array([[  34.54965358,  645.45034642],\n        [ 449.45034642, 8396.54965358]]))"
     },
     "metadata": {},
     "execution_count": 50
    }
   ],
   "source": [
    "chi2_contingency(hsfirst_comment_effect.groupby(['first_comment_has_lex','reply_has_lex'])['count'].sum().unstack())"
   ]
  },
  {
   "cell_type": "code",
   "execution_count": 49,
   "metadata": {},
   "outputs": [
    {
     "output_type": "execute_result",
     "data": {
      "text/plain": "reply_has_lex              Reply with HSL  Reply with no HSL\nfirst_comment_has_lex                                       \nFirst Comment with HSL                132                548\nFirst Comment with no HSL             352               8494",
      "text/html": "<div>\n<style scoped>\n    .dataframe tbody tr th:only-of-type {\n        vertical-align: middle;\n    }\n\n    .dataframe tbody tr th {\n        vertical-align: top;\n    }\n\n    .dataframe thead th {\n        text-align: right;\n    }\n</style>\n<table border=\"1\" class=\"dataframe\">\n  <thead>\n    <tr style=\"text-align: right;\">\n      <th>reply_has_lex</th>\n      <th>Reply with HSL</th>\n      <th>Reply with no HSL</th>\n    </tr>\n    <tr>\n      <th>first_comment_has_lex</th>\n      <th></th>\n      <th></th>\n    </tr>\n  </thead>\n  <tbody>\n    <tr>\n      <th>First Comment with HSL</th>\n      <td>132</td>\n      <td>548</td>\n    </tr>\n    <tr>\n      <th>First Comment with no HSL</th>\n      <td>352</td>\n      <td>8494</td>\n    </tr>\n  </tbody>\n</table>\n</div>"
     },
     "metadata": {},
     "execution_count": 49
    }
   ],
   "source": []
  },
  {
   "cell_type": "code",
   "execution_count": 52,
   "metadata": {},
   "outputs": [],
   "source": [
    "y = pd.read_csv('/home/bupi/Documents/pdy/hs/dashboard/clean/posts/20200323_20200325.csv')"
   ]
  },
  {
   "cell_type": "code",
   "execution_count": 53,
   "metadata": {},
   "outputs": [
    {
     "output_type": "error",
     "ename": "ValueError",
     "evalue": "You are trying to merge on int64 and object columns. If you wish to proceed you should use pd.concat",
     "traceback": [
      "\u001b[0;31m---------------------------------------------------------------------------\u001b[0m",
      "\u001b[0;31mValueError\u001b[0m                                Traceback (most recent call last)",
      "\u001b[0;32m<ipython-input-53-4fb9e42fb15f>\u001b[0m in \u001b[0;36m<module>\u001b[0;34m\u001b[0m\n\u001b[0;32m----> 1\u001b[0;31m \u001b[0mx\u001b[0m\u001b[0;34m.\u001b[0m\u001b[0mmerge\u001b[0m\u001b[0;34m(\u001b[0m\u001b[0my\u001b[0m\u001b[0;34m)\u001b[0m\u001b[0;34m\u001b[0m\u001b[0;34m\u001b[0m\u001b[0m\n\u001b[0m",
      "\u001b[0;32m~/miniconda3/envs/ha0/lib/python3.7/site-packages/pandas/core/frame.py\u001b[0m in \u001b[0;36mmerge\u001b[0;34m(self, right, how, on, left_on, right_on, left_index, right_index, sort, suffixes, copy, indicator, validate)\u001b[0m\n\u001b[1;32m   7295\u001b[0m             \u001b[0mcopy\u001b[0m\u001b[0;34m=\u001b[0m\u001b[0mcopy\u001b[0m\u001b[0;34m,\u001b[0m\u001b[0;34m\u001b[0m\u001b[0;34m\u001b[0m\u001b[0m\n\u001b[1;32m   7296\u001b[0m             \u001b[0mindicator\u001b[0m\u001b[0;34m=\u001b[0m\u001b[0mindicator\u001b[0m\u001b[0;34m,\u001b[0m\u001b[0;34m\u001b[0m\u001b[0;34m\u001b[0m\u001b[0m\n\u001b[0;32m-> 7297\u001b[0;31m             \u001b[0mvalidate\u001b[0m\u001b[0;34m=\u001b[0m\u001b[0mvalidate\u001b[0m\u001b[0;34m,\u001b[0m\u001b[0;34m\u001b[0m\u001b[0;34m\u001b[0m\u001b[0m\n\u001b[0m\u001b[1;32m   7298\u001b[0m         )\n\u001b[1;32m   7299\u001b[0m \u001b[0;34m\u001b[0m\u001b[0m\n",
      "\u001b[0;32m~/miniconda3/envs/ha0/lib/python3.7/site-packages/pandas/core/reshape/merge.py\u001b[0m in \u001b[0;36mmerge\u001b[0;34m(left, right, how, on, left_on, right_on, left_index, right_index, sort, suffixes, copy, indicator, validate)\u001b[0m\n\u001b[1;32m     84\u001b[0m         \u001b[0mcopy\u001b[0m\u001b[0;34m=\u001b[0m\u001b[0mcopy\u001b[0m\u001b[0;34m,\u001b[0m\u001b[0;34m\u001b[0m\u001b[0;34m\u001b[0m\u001b[0m\n\u001b[1;32m     85\u001b[0m         \u001b[0mindicator\u001b[0m\u001b[0;34m=\u001b[0m\u001b[0mindicator\u001b[0m\u001b[0;34m,\u001b[0m\u001b[0;34m\u001b[0m\u001b[0;34m\u001b[0m\u001b[0m\n\u001b[0;32m---> 86\u001b[0;31m         \u001b[0mvalidate\u001b[0m\u001b[0;34m=\u001b[0m\u001b[0mvalidate\u001b[0m\u001b[0;34m,\u001b[0m\u001b[0;34m\u001b[0m\u001b[0;34m\u001b[0m\u001b[0m\n\u001b[0m\u001b[1;32m     87\u001b[0m     )\n\u001b[1;32m     88\u001b[0m     \u001b[0;32mreturn\u001b[0m \u001b[0mop\u001b[0m\u001b[0;34m.\u001b[0m\u001b[0mget_result\u001b[0m\u001b[0;34m(\u001b[0m\u001b[0;34m)\u001b[0m\u001b[0;34m\u001b[0m\u001b[0;34m\u001b[0m\u001b[0m\n",
      "\u001b[0;32m~/miniconda3/envs/ha0/lib/python3.7/site-packages/pandas/core/reshape/merge.py\u001b[0m in \u001b[0;36m__init__\u001b[0;34m(self, left, right, how, on, left_on, right_on, axis, left_index, right_index, sort, suffixes, copy, indicator, validate)\u001b[0m\n\u001b[1;32m    629\u001b[0m         \u001b[0;31m# validate the merge keys dtypes. We may need to coerce\u001b[0m\u001b[0;34m\u001b[0m\u001b[0;34m\u001b[0m\u001b[0;34m\u001b[0m\u001b[0m\n\u001b[1;32m    630\u001b[0m         \u001b[0;31m# to avoid incompat dtypes\u001b[0m\u001b[0;34m\u001b[0m\u001b[0;34m\u001b[0m\u001b[0;34m\u001b[0m\u001b[0m\n\u001b[0;32m--> 631\u001b[0;31m         \u001b[0mself\u001b[0m\u001b[0;34m.\u001b[0m\u001b[0m_maybe_coerce_merge_keys\u001b[0m\u001b[0;34m(\u001b[0m\u001b[0;34m)\u001b[0m\u001b[0;34m\u001b[0m\u001b[0;34m\u001b[0m\u001b[0m\n\u001b[0m\u001b[1;32m    632\u001b[0m \u001b[0;34m\u001b[0m\u001b[0m\n\u001b[1;32m    633\u001b[0m         \u001b[0;31m# If argument passed to validate,\u001b[0m\u001b[0;34m\u001b[0m\u001b[0;34m\u001b[0m\u001b[0;34m\u001b[0m\u001b[0m\n",
      "\u001b[0;32m~/miniconda3/envs/ha0/lib/python3.7/site-packages/pandas/core/reshape/merge.py\u001b[0m in \u001b[0;36m_maybe_coerce_merge_keys\u001b[0;34m(self)\u001b[0m\n\u001b[1;32m   1144\u001b[0m                     \u001b[0minferred_right\u001b[0m \u001b[0;32min\u001b[0m \u001b[0mstring_types\u001b[0m \u001b[0;32mand\u001b[0m \u001b[0minferred_left\u001b[0m \u001b[0;32mnot\u001b[0m \u001b[0;32min\u001b[0m \u001b[0mstring_types\u001b[0m\u001b[0;34m\u001b[0m\u001b[0;34m\u001b[0m\u001b[0m\n\u001b[1;32m   1145\u001b[0m                 ):\n\u001b[0;32m-> 1146\u001b[0;31m                     \u001b[0;32mraise\u001b[0m \u001b[0mValueError\u001b[0m\u001b[0;34m(\u001b[0m\u001b[0mmsg\u001b[0m\u001b[0;34m)\u001b[0m\u001b[0;34m\u001b[0m\u001b[0;34m\u001b[0m\u001b[0m\n\u001b[0m\u001b[1;32m   1147\u001b[0m \u001b[0;34m\u001b[0m\u001b[0m\n\u001b[1;32m   1148\u001b[0m             \u001b[0;31m# datetimelikes must match exactly\u001b[0m\u001b[0;34m\u001b[0m\u001b[0;34m\u001b[0m\u001b[0;34m\u001b[0m\u001b[0m\n",
      "\u001b[0;31mValueError\u001b[0m: You are trying to merge on int64 and object columns. If you wish to proceed you should use pd.concat"
     ]
    }
   ],
   "source": [
    "x.merge(y)"
   ]
  },
  {
   "cell_type": "code",
   "execution_count": 56,
   "metadata": {},
   "outputs": [
    {
     "output_type": "error",
     "ename": "TypeError",
     "evalue": "concat() got an unexpected keyword argument 'on'",
     "traceback": [
      "\u001b[0;31m---------------------------------------------------------------------------\u001b[0m",
      "\u001b[0;31mTypeError\u001b[0m                                 Traceback (most recent call last)",
      "\u001b[0;32m<ipython-input-56-78f8c901e7b7>\u001b[0m in \u001b[0;36m<module>\u001b[0;34m\u001b[0m\n\u001b[0;32m----> 1\u001b[0;31m \u001b[0mpd\u001b[0m\u001b[0;34m.\u001b[0m\u001b[0mconcat\u001b[0m\u001b[0;34m(\u001b[0m\u001b[0;34m(\u001b[0m\u001b[0mx\u001b[0m\u001b[0;34m,\u001b[0m\u001b[0my\u001b[0m\u001b[0;34m)\u001b[0m\u001b[0;34m,\u001b[0m \u001b[0mjoin\u001b[0m\u001b[0;34m=\u001b[0m\u001b[0;34m'left'\u001b[0m\u001b[0;34m,\u001b[0m \u001b[0mon\u001b[0m\u001b[0;34m=\u001b[0m\u001b[0;34m'post_url'\u001b[0m\u001b[0;34m)\u001b[0m\u001b[0;34m\u001b[0m\u001b[0;34m\u001b[0m\u001b[0m\n\u001b[0m",
      "\u001b[0;31mTypeError\u001b[0m: concat() got an unexpected keyword argument 'on'"
     ]
    }
   ],
   "source": [
    "pd.concat((x,y), join='left', on='post_url')"
   ]
  },
  {
   "cell_type": "code",
   "execution_count": 54,
   "metadata": {},
   "outputs": [
    {
     "output_type": "execute_result",
     "data": {
      "text/plain": "         post_id  c_id  n_id       profile_id             datetime  likes  \\\n0  25032020_0072     1     0  100004238449395  2020-03-24 13:01:38      1   \n1  25032020_0072     3     0  100046335742147  2020-03-24 13:02:29      2   \n\n                                     comment_message lex_found  \\\n0                     အမေ စု သက် ရှည် ကျန်းမာ ပါစေ 🙏       NaN   \n1  Educatingpeopleisessential..Teachpeopletodofre...       NaN   \n\n                                            post_url              pc_id  \n0  https://www.facebook.com/7daynews/posts/315261...  25032020_00720001  \n1  https://www.facebook.com/7daynews/posts/315261...  25032020_00720003  ",
      "text/html": "<div>\n<style scoped>\n    .dataframe tbody tr th:only-of-type {\n        vertical-align: middle;\n    }\n\n    .dataframe tbody tr th {\n        vertical-align: top;\n    }\n\n    .dataframe thead th {\n        text-align: right;\n    }\n</style>\n<table border=\"1\" class=\"dataframe\">\n  <thead>\n    <tr style=\"text-align: right;\">\n      <th></th>\n      <th>post_id</th>\n      <th>c_id</th>\n      <th>n_id</th>\n      <th>profile_id</th>\n      <th>datetime</th>\n      <th>likes</th>\n      <th>comment_message</th>\n      <th>lex_found</th>\n      <th>post_url</th>\n      <th>pc_id</th>\n    </tr>\n  </thead>\n  <tbody>\n    <tr>\n      <th>0</th>\n      <td>25032020_0072</td>\n      <td>1</td>\n      <td>0</td>\n      <td>100004238449395</td>\n      <td>2020-03-24 13:01:38</td>\n      <td>1</td>\n      <td>အမေ စု သက် ရှည် ကျန်းမာ ပါစေ 🙏</td>\n      <td>NaN</td>\n      <td>https://www.facebook.com/7daynews/posts/315261...</td>\n      <td>25032020_00720001</td>\n    </tr>\n    <tr>\n      <th>1</th>\n      <td>25032020_0072</td>\n      <td>3</td>\n      <td>0</td>\n      <td>100046335742147</td>\n      <td>2020-03-24 13:02:29</td>\n      <td>2</td>\n      <td>Educatingpeopleisessential..Teachpeopletodofre...</td>\n      <td>NaN</td>\n      <td>https://www.facebook.com/7daynews/posts/315261...</td>\n      <td>25032020_00720003</td>\n    </tr>\n  </tbody>\n</table>\n</div>"
     },
     "metadata": {},
     "execution_count": 54
    }
   ],
   "source": [
    "x.head(2)"
   ]
  },
  {
   "cell_type": "code",
   "execution_count": 55,
   "metadata": {},
   "outputs": [
    {
     "output_type": "execute_result",
     "data": {
      "text/plain": "               page_name                                              likes  \\\n0                AKonThi  https://www.facebook.com/AKonThiNEWS/posts/117...   \n1  MOI Webportal Myanmar  https://www.facebook.com/MOIWebportalMyanmar/p...   \n\n   comments  shares   love   wow  haha  sad  angry  thankful  post_url  \\\n0     33769     858  57029  1256    44   80     35         7         0   \n1      4605     272   9095    13   382    3   1949         5         0   \n\n                                        post_message lex_found  \n0  နိုင်ငံတော် ၏ အတိုင်ပင်ခံ ပုဂ္ဂိုလ် ဒေါ် အောင်...       NaN  \n1  COVID-19 ရောဂါ စောင့်ကြပ် ကြည့်ရှု မှု နှင့် ပ...       NaN  ",
      "text/html": "<div>\n<style scoped>\n    .dataframe tbody tr th:only-of-type {\n        vertical-align: middle;\n    }\n\n    .dataframe tbody tr th {\n        vertical-align: top;\n    }\n\n    .dataframe thead th {\n        text-align: right;\n    }\n</style>\n<table border=\"1\" class=\"dataframe\">\n  <thead>\n    <tr style=\"text-align: right;\">\n      <th></th>\n      <th>page_name</th>\n      <th>likes</th>\n      <th>comments</th>\n      <th>shares</th>\n      <th>love</th>\n      <th>wow</th>\n      <th>haha</th>\n      <th>sad</th>\n      <th>angry</th>\n      <th>thankful</th>\n      <th>post_url</th>\n      <th>post_message</th>\n      <th>lex_found</th>\n    </tr>\n  </thead>\n  <tbody>\n    <tr>\n      <th>0</th>\n      <td>AKonThi</td>\n      <td>https://www.facebook.com/AKonThiNEWS/posts/117...</td>\n      <td>33769</td>\n      <td>858</td>\n      <td>57029</td>\n      <td>1256</td>\n      <td>44</td>\n      <td>80</td>\n      <td>35</td>\n      <td>7</td>\n      <td>0</td>\n      <td>နိုင်ငံတော် ၏ အတိုင်ပင်ခံ ပုဂ္ဂိုလ် ဒေါ် အောင်...</td>\n      <td>NaN</td>\n    </tr>\n    <tr>\n      <th>1</th>\n      <td>MOI Webportal Myanmar</td>\n      <td>https://www.facebook.com/MOIWebportalMyanmar/p...</td>\n      <td>4605</td>\n      <td>272</td>\n      <td>9095</td>\n      <td>13</td>\n      <td>382</td>\n      <td>3</td>\n      <td>1949</td>\n      <td>5</td>\n      <td>0</td>\n      <td>COVID-19 ရောဂါ စောင့်ကြပ် ကြည့်ရှု မှု နှင့် ပ...</td>\n      <td>NaN</td>\n    </tr>\n  </tbody>\n</table>\n</div>"
     },
     "metadata": {},
     "execution_count": 55
    }
   ],
   "source": [
    "y.head(2)"
   ]
  },
  {
   "cell_type": "markdown",
   "metadata": {},
   "source": [
    "## Page Outreach"
   ]
  },
  {
   "cell_type": "code",
   "execution_count": 1,
   "metadata": {},
   "outputs": [
    {
     "output_type": "error",
     "ename": "NameError",
     "evalue": "name 'pd' is not defined",
     "traceback": [
      "\u001b[0;31m---------------------------------------------------------------------------\u001b[0m",
      "\u001b[0;31mNameError\u001b[0m                                 Traceback (most recent call last)",
      "\u001b[0;32m<ipython-input-1-662fdd36618a>\u001b[0m in \u001b[0;36m<module>\u001b[0;34m\u001b[0m\n\u001b[0;32m----> 1\u001b[0;31m \u001b[0mdf\u001b[0m \u001b[0;34m=\u001b[0m \u001b[0mpd\u001b[0m\u001b[0;34m.\u001b[0m\u001b[0mread_csv\u001b[0m\u001b[0;34m(\u001b[0m\u001b[0mfiles\u001b[0m\u001b[0;34m[\u001b[0m\u001b[0;36m0\u001b[0m\u001b[0;34m]\u001b[0m\u001b[0;34m,\u001b[0m \u001b[0musecols\u001b[0m\u001b[0;34m=\u001b[0m\u001b[0;34m[\u001b[0m\u001b[0;34m'profile_id'\u001b[0m\u001b[0;34m,\u001b[0m\u001b[0;34m'date'\u001b[0m\u001b[0;34m,\u001b[0m\u001b[0;34m'post_url'\u001b[0m\u001b[0;34m]\u001b[0m\u001b[0;34m)\u001b[0m\u001b[0;34m\u001b[0m\u001b[0;34m\u001b[0m\u001b[0m\n\u001b[0m\u001b[1;32m      2\u001b[0m \u001b[0mdf\u001b[0m\u001b[0;34m[\u001b[0m\u001b[0;34m'page'\u001b[0m\u001b[0;34m]\u001b[0m \u001b[0;34m=\u001b[0m \u001b[0mdf\u001b[0m\u001b[0;34m.\u001b[0m\u001b[0mpost_url\u001b[0m\u001b[0;34m.\u001b[0m\u001b[0mapply\u001b[0m\u001b[0;34m(\u001b[0m\u001b[0;32mlambda\u001b[0m \u001b[0mx\u001b[0m\u001b[0;34m:\u001b[0m \u001b[0mx\u001b[0m\u001b[0;34m.\u001b[0m\u001b[0msplit\u001b[0m\u001b[0;34m(\u001b[0m\u001b[0;34m'posts'\u001b[0m\u001b[0;34m)\u001b[0m\u001b[0;34m[\u001b[0m\u001b[0;36m0\u001b[0m\u001b[0;34m]\u001b[0m\u001b[0;34m)\u001b[0m\u001b[0;34m\u001b[0m\u001b[0;34m\u001b[0m\u001b[0m\n\u001b[1;32m      3\u001b[0m \u001b[0mdf\u001b[0m\u001b[0;34m.\u001b[0m\u001b[0mhead\u001b[0m\u001b[0;34m(\u001b[0m\u001b[0;36m2\u001b[0m\u001b[0;34m)\u001b[0m\u001b[0;34m\u001b[0m\u001b[0;34m\u001b[0m\u001b[0m\n",
      "\u001b[0;31mNameError\u001b[0m: name 'pd' is not defined"
     ]
    }
   ],
   "source": [
    "df = pd.read_csv(files[0], usecols=['profile_id','date','post_url'])\n",
    "df['page'] = df.post_url.apply(lambda x: x.split('posts')[0])\n",
    "df.head(2)"
   ]
  },
  {
   "cell_type": "code",
   "execution_count": 6,
   "metadata": {},
   "outputs": [
    {
     "output_type": "execute_result",
     "data": {
      "text/plain": "page\nhttps://www.facebook.com/208118176698616/         69\nhttps://www.facebook.com/597015637154804/         51\nhttps://www.facebook.com/714912165290510/          6\nhttps://www.facebook.com/7daynews/              1543\nhttps://www.facebook.com/AKonThiNEWS/           1343\n                                                ... \nhttps://www.facebook.com/thutakyaw.mm/            32\nhttps://www.facebook.com/we.com.mm/              221\nhttps://www.facebook.com/www.thadinsar.site/       8\nhttps://www.facebook.com/yuyaonlinethadin/         9\nhttps://www.facebook.com/zomipost.news/          632\nName: profile_id, Length: 76, dtype: int64"
     },
     "metadata": {},
     "execution_count": 6
    }
   ],
   "source": [
    "df.groupby('page')['profile_id'].nunique()"
   ]
  },
  {
   "cell_type": "code",
   "execution_count": 7,
   "metadata": {},
   "outputs": [
    {
     "output_type": "execute_result",
     "data": {
      "text/plain": "(1543,)"
     },
     "metadata": {},
     "execution_count": 7
    }
   ],
   "source": [
    "df.profile_id[df.page=='https://www.facebook.com/7daynews/'].unique().shape"
   ]
  },
  {
   "cell_type": "markdown",
   "metadata": {},
   "source": [
    "## hs ratio page"
   ]
  },
  {
   "cell_type": "code",
   "execution_count": 3,
   "metadata": {},
   "outputs": [
    {
     "output_type": "execute_result",
     "data": {
      "text/plain": "         post_id  c_id  n_id       profile_id             datetime  likes  \\\n0  25032020_0072     1     0  100004238449395  2020-03-24 13:01:38      1   \n1  25032020_0072     3     0  100046335742147  2020-03-24 13:02:29      2   \n\n                                     comment_message lex_found  \\\n0                     အမေ စု သက် ရှည် ကျန်းမာ ပါစေ 🙏       NaN   \n1  Educatingpeopleisessential..Teachpeopletodofre...       NaN   \n\n                                            post_url          page_name  ...  \\\n0  https://www.facebook.com/7daynews/posts/315261...  7Day News Journal  ...   \n1  https://www.facebook.com/7daynews/posts/315261...  7Day News Journal  ...   \n\n   shares  love  wow  haha  sad  angry  thankful  likes_post  \\\n0     473  7251  357     7   28      9         1           0   \n1     473  7251  357     7   28      9         1           0   \n\n                                        post_message lex_found_post  \n0  ပြည်တွင်း မှာ COVID-19 ရောဂါပိုး ရှိ သူ နှစ် ဦ...            NaN  \n1  ပြည်တွင်း မှာ COVID-19 ရောဂါပိုး ရှိ သူ နှစ် ဦ...            NaN  \n\n[2 rows x 21 columns]",
      "text/html": "<div>\n<style scoped>\n    .dataframe tbody tr th:only-of-type {\n        vertical-align: middle;\n    }\n\n    .dataframe tbody tr th {\n        vertical-align: top;\n    }\n\n    .dataframe thead th {\n        text-align: right;\n    }\n</style>\n<table border=\"1\" class=\"dataframe\">\n  <thead>\n    <tr style=\"text-align: right;\">\n      <th></th>\n      <th>post_id</th>\n      <th>c_id</th>\n      <th>n_id</th>\n      <th>profile_id</th>\n      <th>datetime</th>\n      <th>likes</th>\n      <th>comment_message</th>\n      <th>lex_found</th>\n      <th>post_url</th>\n      <th>page_name</th>\n      <th>...</th>\n      <th>shares</th>\n      <th>love</th>\n      <th>wow</th>\n      <th>haha</th>\n      <th>sad</th>\n      <th>angry</th>\n      <th>thankful</th>\n      <th>likes_post</th>\n      <th>post_message</th>\n      <th>lex_found_post</th>\n    </tr>\n  </thead>\n  <tbody>\n    <tr>\n      <th>0</th>\n      <td>25032020_0072</td>\n      <td>1</td>\n      <td>0</td>\n      <td>100004238449395</td>\n      <td>2020-03-24 13:01:38</td>\n      <td>1</td>\n      <td>အမေ စု သက် ရှည် ကျန်းမာ ပါစေ 🙏</td>\n      <td>NaN</td>\n      <td>https://www.facebook.com/7daynews/posts/315261...</td>\n      <td>7Day News Journal</td>\n      <td>...</td>\n      <td>473</td>\n      <td>7251</td>\n      <td>357</td>\n      <td>7</td>\n      <td>28</td>\n      <td>9</td>\n      <td>1</td>\n      <td>0</td>\n      <td>ပြည်တွင်း မှာ COVID-19 ရောဂါပိုး ရှိ သူ နှစ် ဦ...</td>\n      <td>NaN</td>\n    </tr>\n    <tr>\n      <th>1</th>\n      <td>25032020_0072</td>\n      <td>3</td>\n      <td>0</td>\n      <td>100046335742147</td>\n      <td>2020-03-24 13:02:29</td>\n      <td>2</td>\n      <td>Educatingpeopleisessential..Teachpeopletodofre...</td>\n      <td>NaN</td>\n      <td>https://www.facebook.com/7daynews/posts/315261...</td>\n      <td>7Day News Journal</td>\n      <td>...</td>\n      <td>473</td>\n      <td>7251</td>\n      <td>357</td>\n      <td>7</td>\n      <td>28</td>\n      <td>9</td>\n      <td>1</td>\n      <td>0</td>\n      <td>ပြည်တွင်း မှာ COVID-19 ရောဂါပိုး ရှိ သူ နှစ် ဦ...</td>\n      <td>NaN</td>\n    </tr>\n  </tbody>\n</table>\n<p>2 rows × 21 columns</p>\n</div>"
     },
     "metadata": {},
     "execution_count": 3
    }
   ],
   "source": [
    "comment_df = pd.read_csv(files[0]).merge(\n",
    "    pd.read_csv(files[0].replace('comments','posts')),\n",
    "    on='post_url',\n",
    "    suffixes=('','_post')\n",
    ")\n",
    "comment_df.head(2)"
   ]
  },
  {
   "cell_type": "code",
   "execution_count": 7,
   "metadata": {},
   "outputs": [],
   "source": [
    "comment_df['datetime'] = pd.to_datetime(comment_df.datetime)\n",
    "comment_df['date'] = [pd.datetime(d.year, d.month, d.day) for d in comment_df.datetime]\n",
    "comment_df['has_lex'] = ~comment_df.lex_found.isna()\n",
    "lex_count = comment_df.groupby(['page_name','date'])['has_lex'].sum()\n",
    "total = comment_df.groupby(['page_name','date'])['page_name'].count()\n",
    "total.name = 'total'\n",
    "page_hs_ratio_df = pd.DataFrame([lex_count, total]).T\n",
    "page_hs_ratio_df['ratio'] = page_hs_ratio_df.has_lex / page_hs_ratio_df.total"
   ]
  },
  {
   "cell_type": "code",
   "execution_count": 8,
   "metadata": {},
   "outputs": [
    {
     "output_type": "execute_result",
     "data": {
      "text/plain": "                                has_lex   total     ratio\npage_name           date                                 \n7Day News Journal   2020-03-23      2.0    91.0  0.021978\n                    2020-03-24     47.0  1524.0  0.030840\n                    2020-03-25      3.0   148.0  0.020270\nAKonThi             2020-03-23     17.0   434.0  0.039171\n                    2020-03-24     12.0  1000.0  0.012000\n...                                 ...     ...       ...\nသတင်းထူးသတင်းဦးများ 2020-03-23      1.0   126.0  0.007937\n                    2020-03-24      0.0    56.0  0.000000\n                    2020-03-25      0.0     5.0  0.000000\nသတင်းပေါင်းချုပ်    2020-03-23      1.0     2.0  0.500000\n                    2020-03-24      0.0     6.0  0.000000\n\n[195 rows x 3 columns]",
      "text/html": "<div>\n<style scoped>\n    .dataframe tbody tr th:only-of-type {\n        vertical-align: middle;\n    }\n\n    .dataframe tbody tr th {\n        vertical-align: top;\n    }\n\n    .dataframe thead th {\n        text-align: right;\n    }\n</style>\n<table border=\"1\" class=\"dataframe\">\n  <thead>\n    <tr style=\"text-align: right;\">\n      <th></th>\n      <th></th>\n      <th>has_lex</th>\n      <th>total</th>\n      <th>ratio</th>\n    </tr>\n    <tr>\n      <th>page_name</th>\n      <th>date</th>\n      <th></th>\n      <th></th>\n      <th></th>\n    </tr>\n  </thead>\n  <tbody>\n    <tr>\n      <th rowspan=\"3\" valign=\"top\">7Day News Journal</th>\n      <th>2020-03-23</th>\n      <td>2.0</td>\n      <td>91.0</td>\n      <td>0.021978</td>\n    </tr>\n    <tr>\n      <th>2020-03-24</th>\n      <td>47.0</td>\n      <td>1524.0</td>\n      <td>0.030840</td>\n    </tr>\n    <tr>\n      <th>2020-03-25</th>\n      <td>3.0</td>\n      <td>148.0</td>\n      <td>0.020270</td>\n    </tr>\n    <tr>\n      <th rowspan=\"2\" valign=\"top\">AKonThi</th>\n      <th>2020-03-23</th>\n      <td>17.0</td>\n      <td>434.0</td>\n      <td>0.039171</td>\n    </tr>\n    <tr>\n      <th>2020-03-24</th>\n      <td>12.0</td>\n      <td>1000.0</td>\n      <td>0.012000</td>\n    </tr>\n    <tr>\n      <th>...</th>\n      <th>...</th>\n      <td>...</td>\n      <td>...</td>\n      <td>...</td>\n    </tr>\n    <tr>\n      <th rowspan=\"3\" valign=\"top\">သတင်းထူးသတင်းဦးများ</th>\n      <th>2020-03-23</th>\n      <td>1.0</td>\n      <td>126.0</td>\n      <td>0.007937</td>\n    </tr>\n    <tr>\n      <th>2020-03-24</th>\n      <td>0.0</td>\n      <td>56.0</td>\n      <td>0.000000</td>\n    </tr>\n    <tr>\n      <th>2020-03-25</th>\n      <td>0.0</td>\n      <td>5.0</td>\n      <td>0.000000</td>\n    </tr>\n    <tr>\n      <th rowspan=\"2\" valign=\"top\">သတင်းပေါင်းချုပ်</th>\n      <th>2020-03-23</th>\n      <td>1.0</td>\n      <td>2.0</td>\n      <td>0.500000</td>\n    </tr>\n    <tr>\n      <th>2020-03-24</th>\n      <td>0.0</td>\n      <td>6.0</td>\n      <td>0.000000</td>\n    </tr>\n  </tbody>\n</table>\n<p>195 rows × 3 columns</p>\n</div>"
     },
     "metadata": {},
     "execution_count": 8
    }
   ],
   "source": [
    "page_hs_ratio_df"
   ]
  },
  {
   "cell_type": "code",
   "execution_count": 6,
   "metadata": {},
   "outputs": [],
   "source": [
    "df = pd.read_csv('/home/bupi/Documents/pdy/hs/dashboard/clean/aggregated/20200421221839/page-hs-ratio.csv', sep='~')\n",
    "df['date'] = pd.to_datetime(df.date)"
   ]
  },
  {
   "cell_type": "code",
   "execution_count": 13,
   "metadata": {},
   "outputs": [
    {
     "output_type": "execute_result",
     "data": {
      "text/plain": "(175.0, 6.0)"
     },
     "metadata": {},
     "execution_count": 13
    }
   ],
   "source": [
    "df = df.loc[df.date==pd.datetime(2020,4,10),:]\n",
    "df.total.sum(), df.has_lex.sum()"
   ]
  },
  {
   "cell_type": "code",
   "execution_count": 15,
   "metadata": {},
   "outputs": [
    {
     "output_type": "stream",
     "name": "stdout",
     "text": "/home/bupi/Documents/pdy/hs/dashboard/clean/comments/20200409_20200413.csv\n"
    },
    {
     "output_type": "execute_result",
     "data": {
      "text/plain": "(125176, 9)"
     },
     "metadata": {},
     "execution_count": 15
    }
   ],
   "source": [
    "print(files[-2])\n",
    "df = pd.read_csv(files[-2])\n",
    "df.shape"
   ]
  },
  {
   "cell_type": "code",
   "execution_count": 16,
   "metadata": {},
   "outputs": [
    {
     "output_type": "execute_result",
     "data": {
      "text/plain": "         post_id  c_id  n_id       profile_id             datetime  likes  \\\n0  20200409_0119     1     0  100015150585131  2020-04-15 07:27:34      3   \n1  20200409_0119     2     0  100003563438479  2020-04-15 07:28:20      2   \n\n                                     comment_message lex_found  \\\n0  ပိတ် လိုက် တော့ လေ ကိုယ်ပူ တိုင်းတာ ဘယ်လောက် ထ...       NaN   \n1  Interviewer အစ်ကို ရေ 😷 Mask ကို စနစ်တကျ သုံးစ...       NaN   \n\n                                            post_url  \n0  https://www.facebook.com/2206963259620238/post...  \n1  https://www.facebook.com/2206963259620238/post...  ",
      "text/html": "<div>\n<style scoped>\n    .dataframe tbody tr th:only-of-type {\n        vertical-align: middle;\n    }\n\n    .dataframe tbody tr th {\n        vertical-align: top;\n    }\n\n    .dataframe thead th {\n        text-align: right;\n    }\n</style>\n<table border=\"1\" class=\"dataframe\">\n  <thead>\n    <tr style=\"text-align: right;\">\n      <th></th>\n      <th>post_id</th>\n      <th>c_id</th>\n      <th>n_id</th>\n      <th>profile_id</th>\n      <th>datetime</th>\n      <th>likes</th>\n      <th>comment_message</th>\n      <th>lex_found</th>\n      <th>post_url</th>\n    </tr>\n  </thead>\n  <tbody>\n    <tr>\n      <th>0</th>\n      <td>20200409_0119</td>\n      <td>1</td>\n      <td>0</td>\n      <td>100015150585131</td>\n      <td>2020-04-15 07:27:34</td>\n      <td>3</td>\n      <td>ပိတ် လိုက် တော့ လေ ကိုယ်ပူ တိုင်းတာ ဘယ်လောက် ထ...</td>\n      <td>NaN</td>\n      <td>https://www.facebook.com/2206963259620238/post...</td>\n    </tr>\n    <tr>\n      <th>1</th>\n      <td>20200409_0119</td>\n      <td>2</td>\n      <td>0</td>\n      <td>100003563438479</td>\n      <td>2020-04-15 07:28:20</td>\n      <td>2</td>\n      <td>Interviewer အစ်ကို ရေ 😷 Mask ကို စနစ်တကျ သုံးစ...</td>\n      <td>NaN</td>\n      <td>https://www.facebook.com/2206963259620238/post...</td>\n    </tr>\n  </tbody>\n</table>\n</div>"
     },
     "metadata": {},
     "execution_count": 16
    }
   ],
   "source": [
    "df."
   ]
  },
  {
   "cell_type": "code",
   "execution_count": null,
   "metadata": {},
   "outputs": [],
   "source": []
  }
 ]
}