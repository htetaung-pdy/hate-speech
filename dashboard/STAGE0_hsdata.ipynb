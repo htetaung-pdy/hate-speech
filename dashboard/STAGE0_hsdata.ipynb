{
 "cells": [
  {
   "cell_type": "code",
   "execution_count": null,
   "metadata": {},
   "outputs": [],
   "source": []
  },
  {
   "cell_type": "code",
   "execution_count": 1,
   "metadata": {},
   "outputs": [],
   "source": [
    "import pandas as pd\n",
    "import sys\n",
    "sys.path.append('/home/bupi/Documents/pdy/hs/hsle/src')\n",
    "import HsleCandidateGenerationUtils as hsle"
   ]
  },
  {
   "cell_type": "code",
   "execution_count": 2,
   "metadata": {},
   "outputs": [
    {
     "output_type": "stream",
     "name": "stderr",
     "text": "0%|          | 0/11 [00:00<?, ?it/s]11\nProcessing: 20200323_20200325\n  9%|▉         | 1/11 [00:01<00:19,  1.94s/it]Files saved for 20200323_20200325.\nProcessing: 20200325_20200329\n 18%|█▊        | 2/11 [00:05<00:22,  2.52s/it]Files saved for 20200325_20200329.\nProcessing: 20200329_20200331\n 27%|██▋       | 3/11 [00:09<00:21,  2.74s/it]Files saved for 20200329_20200331.\nProcessing: 20200331_20200403\n 36%|███▋      | 4/11 [00:13<00:23,  3.39s/it]Files saved for 20200331_20200403.\nProcessing: 20200403_20200405\n 45%|████▌     | 5/11 [00:16<00:18,  3.00s/it]Files saved for 20200403_20200405.\nProcessing: 20200405_20200409\n 55%|█████▍    | 6/11 [00:17<00:13,  2.68s/it]Files saved for 20200405_20200409.\nProcessing: 20200409_20200413\n 64%|██████▎   | 7/11 [00:21<00:12,  3.02s/it]Files saved for 20200409_20200413.\nProcessing: 20200413_20200420\n 73%|███████▎  | 8/11 [00:25<00:09,  3.11s/it]Files saved for 20200413_20200420.\nProcessing: 20200405_20200409\n 82%|████████▏ | 9/11 [00:26<00:05,  2.51s/it]Files saved for 20200405_20200409.\nProcessing: 20200409_20200413\n 91%|█████████ | 10/11 [00:27<00:02,  2.20s/it]Files saved for 20200409_20200413.\nProcessing: 20200413_20200420\n100%|██████████| 11/11 [00:29<00:00,  2.65s/it]Files saved for 20200413_20200420.\n\n"
    }
   ],
   "source": [
    "from importlib import reload\n",
    "import HateSpeechData as hsd\n",
    "reload(hsd)\n",
    "from glob import glob\n",
    "files = glob('/home/bupi/Documents/pdy/hs/hsle/data/exportcomments-outputs/*/processed/merged.csv')\n",
    "files.sort()\n",
    "print(len(files))\n",
    "data = hsd.HateSpeechData(files)\n",
    "data.run()"
   ]
  },
  {
   "cell_type": "code",
   "execution_count": 30,
   "metadata": {},
   "outputs": [],
   "source": [
    "df = pd.read_csv(hsle.LEX_FILE)\n",
    "norm_dict = {\n",
    "    l.strip():l.strip() if str(a)=='nan' or len(str(a).strip())==0 else a for l,a in zip(df.label, df.label_alternative_spelling)\n",
    "}\n",
    "norm_dict.update({\n",
    "    str(a).strip():str(a).strip() for a in df.label_alternative_spelling.dropna().unique()\n",
    "})"
   ]
  },
  {
   "cell_type": "code",
   "execution_count": 15,
   "metadata": {},
   "outputs": [
    {
     "output_type": "execute_result",
     "data": {
      "text/plain": "True"
     },
     "metadata": {},
     "execution_count": 15
    }
   ],
   "source": [
    "import numpy as np\n",
    "np.isnan(df.label_alternative_spelling[0])"
   ]
  },
  {
   "cell_type": "code",
   "execution_count": null,
   "metadata": {},
   "outputs": [],
   "source": []
  }
 ],
 "metadata": {
  "language_info": {
   "name": "python",
   "codemirror_mode": {
    "name": "ipython",
    "version": 3
   },
   "version": "3.7.6-final"
  },
  "orig_nbformat": 2,
  "file_extension": ".py",
  "mimetype": "text/x-python",
  "name": "python",
  "npconvert_exporter": "python",
  "pygments_lexer": "ipython3",
  "version": 3,
  "kernelspec": {
   "name": "python3",
   "display_name": "Python 3"
  }
 },
 "nbformat": 4,
 "nbformat_minor": 2
}