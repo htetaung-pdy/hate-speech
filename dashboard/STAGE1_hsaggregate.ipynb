{
 "nbformat": 4,
 "nbformat_minor": 2,
 "metadata": {
  "language_info": {
   "name": "python",
   "codemirror_mode": {
    "name": "ipython",
    "version": 3
   },
   "version": "3.7.6-final"
  },
  "orig_nbformat": 2,
  "file_extension": ".py",
  "mimetype": "text/x-python",
  "name": "python",
  "npconvert_exporter": "python",
  "pygments_lexer": "ipython3",
  "version": 3,
  "kernelspec": {
   "name": "python3",
   "display_name": "Python 3"
  }
 },
 "cells": [
  {
   "cell_type": "code",
   "execution_count": 1,
   "metadata": {},
   "outputs": [
    {
     "output_type": "stream",
     "name": "stdout",
     "text": "8\n"
    }
   ],
   "source": [
    "from importlib import reload\n",
    "import HateSpeechAggregator as hsa\n",
    "from glob import glob\n",
    "reload(hsa);\n",
    "\n",
    "files = glob('/home/bupi/Documents/pdy/hs/dashboard/clean/comments/*.csv')\n",
    "print(len(files))\n",
    "# hsa.run(files)"
   ]
  },
  {
   "cell_type": "code",
   "execution_count": 2,
   "metadata": {},
   "outputs": [
    {
     "output_type": "stream",
     "name": "stdout",
     "text": "Current date range: 20200323 20200420\n=========================================\nProcessing: 20200323_20200325.csv\nWriting 2395 lines...\nDone.\nWriting 194 lines...\nDone.\nWriting 4 lines...\nDone.\nWriting 4 lines...\nDone.\nWriting 194 lines...\nDone.\n=========================================\nProcessing: 20200325_20200329.csv\nAppending 2273 lines...\nDone.\nAppending 730 lines...\nDone.\nAppending 4 lines...\nDone.\nAppending 4 lines...\nDone.\nAppending 730 lines...\nDone.\n=========================================\nProcessing: 20200329_20200331.csv\nAppending 2865 lines...\nDone.\nAppending 244 lines...\nDone.\nAppending 4 lines...\nDone.\nAppending 4 lines...\nDone.\nAppending 244 lines...\nDone.\n=========================================\nProcessing: 20200331_20200403.csv\nAppending 2054 lines...\nDone.\nAppending 419 lines...\nDone.\nAppending 4 lines...\nDone.\nAppending 4 lines...\nDone.\nAppending 419 lines...\nDone.\n=========================================\nProcessing: 20200403_20200405.csv\nAppending 2571 lines...\nDone.\nAppending 309 lines...\nDone.\nAppending 4 lines...\nDone.\nAppending 4 lines...\nDone.\nAppending 309 lines...\nDone.\n=========================================\nProcessing: 20200405_20200409.csv\nAppending 1515 lines...\nDone.\nAppending 247 lines...\nDone.\nAppending 4 lines...\nDone.\nAppending 4 lines...\nDone.\nAppending 247 lines...\nDone.\n=========================================\nProcessing: 20200409_20200413.csv\nAppending 3355 lines...\nDone.\nAppending 461 lines...\nDone.\nAppending 4 lines...\nDone.\nAppending 4 lines...\nDone.\nAppending 461 lines...\nDone.\n=========================================\nProcessing: 20200413_20200420.csv\nAppending 3354 lines...\nDone.\nAppending 411 lines...\nDone.\nAppending 4 lines...\nDone.\nAppending 4 lines...\nDone.\nAppending 411 lines...\nDone.\n"
    }
   ],
   "source": [
    "hsa.run(files)"
   ]
  },
  {
   "cell_type": "markdown",
   "metadata": {},
   "source": [
    "## Calculate X2"
   ]
  },
  {
   "cell_type": "code",
   "execution_count": 2,
   "metadata": {},
   "outputs": [
    {
     "output_type": "stream",
     "name": "stdout",
     "text": "############### 20200421193249\n(8713.216529631369, 0.0, 1) \n (2134.085367455556, 0.0, 1)\n"
    }
   ],
   "source": [
    "from scipy.stats import chi2_contingency\n",
    "import pandas as pd\n",
    "aggredate_id = '20200421193249'\n",
    "print('###############', aggredate_id)\n",
    "print(\n",
    "    chi2_contingency(pd.read_csv(\n",
    "        '/home/bupi/Documents/pdy/hs/dashboard/clean/aggregated/'+aggredate_id+'/hspost-effect.csv').groupby(\n",
    "            ['post_has_lex','comment_has_lex'])['count'].sum().unstack())[:3],\n",
    "    '\\n',\n",
    "    chi2_contingency(pd.read_csv(\n",
    "        '/home/bupi/Documents/pdy/hs/dashboard/clean/aggregated/'+aggredate_id+'/hsfirst-comment-effect.csv').groupby(\n",
    "            ['first_comment_has_lex','reply_has_lex'])['count'].sum().unstack())[:3]\n",
    ")"
   ]
  },
  {
   "cell_type": "code",
   "execution_count": 9,
   "metadata": {},
   "outputs": [
    {
     "output_type": "execute_result",
     "data": {
      "text/plain": "(2020, 17, 2)"
     },
     "metadata": {},
     "execution_count": 9
    }
   ],
   "source": [
    "pd.datetime(2020,4,21).isocalendar()"
   ]
  },
  {
   "cell_type": "code",
   "execution_count": null,
   "metadata": {},
   "outputs": [],
   "source": []
  }
 ]
}