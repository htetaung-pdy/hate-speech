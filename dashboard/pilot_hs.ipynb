{
 "nbformat": 4,
 "nbformat_minor": 2,
 "metadata": {
  "language_info": {
   "name": "python",
   "codemirror_mode": {
    "name": "ipython",
    "version": 3
   },
   "version": "3.7.6-final"
  },
  "orig_nbformat": 2,
  "file_extension": ".py",
  "mimetype": "text/x-python",
  "name": "python",
  "npconvert_exporter": "python",
  "pygments_lexer": "ipython3",
  "version": 3,
  "kernelspec": {
   "name": "python3",
   "display_name": "Python 3"
  }
 },
 "cells": [
  {
   "cell_type": "code",
   "execution_count": null,
   "metadata": {},
   "outputs": [],
   "source": []
  },
  {
   "cell_type": "code",
   "execution_count": 1,
   "metadata": {},
   "outputs": [],
   "source": [
    "import pandas as pd\n",
    "import numpy as np\n",
    "from datetime import datetime"
   ]
  },
  {
   "cell_type": "code",
   "execution_count": 2,
   "metadata": {},
   "outputs": [
    {
     "output_type": "stream",
     "name": "stdout",
     "text": "(58725, 15)\n"
    },
    {
     "output_type": "execute_result",
     "data": {
      "text/plain": "   cId  nId Name (click to view profile)           Profile ID  \\\n0    1    0                         Nunu  ID: 100004238449395   \n1    3    0                      Nyi Nyi  ID: 100046335742147   \n\n                  Date  Likes  \\\n0  2020-03-24 13:01:38      1   \n1  2020-03-24 13:02:29      2   \n\n                                             Comment (view source)  \\\n0                           အမေစုသက်ရှည်ကျန်းမာပါစေ🙏  view comment   \n1  Educating people is essential.. Teach people t...  view comment   \n\n          postId  nChars                                             MsgUni  \\\n0  25032020_0072      24                           အမေစုသက်ရှည်ကျန်းမာပါစေ🙏   \n1  25032020_0072     289  Educating people is essential.. Teach people t...   \n\n   atleast1MM                                          MsgUniSeg LexFound  \\\n0        True                     အမေ စု သက် ရှည် ကျန်းမာ ပါစေ 🙏      NaN   \n1       False  Educatingpeopleisessential..Teachpeopletodofre...      NaN   \n\n                                             PostURL  \n0  https://www.facebook.com/7daynews/posts/315261...  \n1  https://www.facebook.com/7daynews/posts/315261...  ",
      "text/html": "<div>\n<style scoped>\n    .dataframe tbody tr th:only-of-type {\n        vertical-align: middle;\n    }\n\n    .dataframe tbody tr th {\n        vertical-align: top;\n    }\n\n    .dataframe thead th {\n        text-align: right;\n    }\n</style>\n<table border=\"1\" class=\"dataframe\">\n  <thead>\n    <tr style=\"text-align: right;\">\n      <th></th>\n      <th>cId</th>\n      <th>nId</th>\n      <th>Name (click to view profile)</th>\n      <th>Profile ID</th>\n      <th>Date</th>\n      <th>Likes</th>\n      <th>Comment</th>\n      <th>(view source)</th>\n      <th>postId</th>\n      <th>nChars</th>\n      <th>MsgUni</th>\n      <th>atleast1MM</th>\n      <th>MsgUniSeg</th>\n      <th>LexFound</th>\n      <th>PostURL</th>\n    </tr>\n  </thead>\n  <tbody>\n    <tr>\n      <th>0</th>\n      <td>1</td>\n      <td>0</td>\n      <td>Nunu</td>\n      <td>ID: 100004238449395</td>\n      <td>2020-03-24 13:01:38</td>\n      <td>1</td>\n      <td>အမေစုသက်ရှည်ကျန်းမာပါစေ🙏</td>\n      <td>view comment</td>\n      <td>25032020_0072</td>\n      <td>24</td>\n      <td>အမေစုသက်ရှည်ကျန်းမာပါစေ🙏</td>\n      <td>True</td>\n      <td>အမေ စု သက် ရှည် ကျန်းမာ ပါစေ 🙏</td>\n      <td>NaN</td>\n      <td>https://www.facebook.com/7daynews/posts/315261...</td>\n    </tr>\n    <tr>\n      <th>1</th>\n      <td>3</td>\n      <td>0</td>\n      <td>Nyi Nyi</td>\n      <td>ID: 100046335742147</td>\n      <td>2020-03-24 13:02:29</td>\n      <td>2</td>\n      <td>Educating people is essential.. Teach people t...</td>\n      <td>view comment</td>\n      <td>25032020_0072</td>\n      <td>289</td>\n      <td>Educating people is essential.. Teach people t...</td>\n      <td>False</td>\n      <td>Educatingpeopleisessential..Teachpeopletodofre...</td>\n      <td>NaN</td>\n      <td>https://www.facebook.com/7daynews/posts/315261...</td>\n    </tr>\n  </tbody>\n</table>\n</div>"
     },
     "metadata": {},
     "execution_count": 2
    }
   ],
   "source": [
    "df = pd.read_csv('../hsle/data/exportcomments-outputs/20200323_20200325/processed/merged.csv')\n",
    "print(df.shape)\n",
    "df.head(2)"
   ]
  },
  {
   "cell_type": "markdown",
   "metadata": {},
   "source": [
    "# Update LexFound"
   ]
  },
  {
   "cell_type": "code",
   "execution_count": 3,
   "metadata": {},
   "outputs": [
    {
     "output_type": "stream",
     "name": "stdout",
     "text": "(1797, 2)\n"
    },
    {
     "output_type": "execute_result",
     "data": {
      "text/plain": "                  Date        LexFound\n4  2020-03-24 13:14:18         စစ်ခွေး\n8  2020-03-24 13:50:46  စစ်ခွေး~ဖင်ယား",
      "text/html": "<div>\n<style scoped>\n    .dataframe tbody tr th:only-of-type {\n        vertical-align: middle;\n    }\n\n    .dataframe tbody tr th {\n        vertical-align: top;\n    }\n\n    .dataframe thead th {\n        text-align: right;\n    }\n</style>\n<table border=\"1\" class=\"dataframe\">\n  <thead>\n    <tr style=\"text-align: right;\">\n      <th></th>\n      <th>Date</th>\n      <th>LexFound</th>\n    </tr>\n  </thead>\n  <tbody>\n    <tr>\n      <th>4</th>\n      <td>2020-03-24 13:14:18</td>\n      <td>စစ်ခွေး</td>\n    </tr>\n    <tr>\n      <th>8</th>\n      <td>2020-03-24 13:50:46</td>\n      <td>စစ်ခွေး~ဖင်ယား</td>\n    </tr>\n  </tbody>\n</table>\n</div>"
     },
     "metadata": {},
     "execution_count": 3
    }
   ],
   "source": [
    "cols = ['Date','LexFound']\n",
    "\n",
    "df = df.loc[~df.LexFound.isna(), cols]\n",
    "print(df.shape)\n",
    "df.head(2)"
   ]
  },
  {
   "cell_type": "code",
   "execution_count": 4,
   "metadata": {},
   "outputs": [
    {
     "output_type": "execute_result",
     "data": {
      "text/plain": "                 Date        LexFound\n4 2020-03-24 13:14:18         စစ်ခွေး\n8 2020-03-24 13:50:46  စစ်ခွေး~ဖင်ယား",
      "text/html": "<div>\n<style scoped>\n    .dataframe tbody tr th:only-of-type {\n        vertical-align: middle;\n    }\n\n    .dataframe tbody tr th {\n        vertical-align: top;\n    }\n\n    .dataframe thead th {\n        text-align: right;\n    }\n</style>\n<table border=\"1\" class=\"dataframe\">\n  <thead>\n    <tr style=\"text-align: right;\">\n      <th></th>\n      <th>Date</th>\n      <th>LexFound</th>\n    </tr>\n  </thead>\n  <tbody>\n    <tr>\n      <th>4</th>\n      <td>2020-03-24 13:14:18</td>\n      <td>စစ်ခွေး</td>\n    </tr>\n    <tr>\n      <th>8</th>\n      <td>2020-03-24 13:50:46</td>\n      <td>စစ်ခွေး~ဖင်ယား</td>\n    </tr>\n  </tbody>\n</table>\n</div>"
     },
     "metadata": {},
     "execution_count": 4
    }
   ],
   "source": [
    "df['Date'] = [pd.to_datetime(d) for d in df.Date]\n",
    "df.head(2)"
   ]
  },
  {
   "cell_type": "markdown",
   "metadata": {},
   "source": [
    "## Split the `LexFound` column for individual lexicons"
   ]
  },
  {
   "cell_type": "code",
   "execution_count": 5,
   "metadata": {},
   "outputs": [
    {
     "output_type": "execute_result",
     "data": {
      "text/plain": "4                [စစ်ခွေး]\n8        [စစ်ခွေး, ဖင်ယား]\n11               [စစ်ခွေး]\n31               [စစ်ခွေး]\n35               [စစ်ခွေး]\n               ...        \n58276             [သူပုန်]\n58278             [သူပုန်]\n58280          [အကြမ်းဖက်]\n58286             [သူပုန်]\n58289             [သူပုန်]\nName: LexFound, Length: 1797, dtype: object"
     },
     "metadata": {},
     "execution_count": 5
    }
   ],
   "source": [
    "datetime_sr = df.Date\n",
    "lex_sr = df.LexFound.apply(lambda x: x.split('~'))\n",
    "lex_sr"
   ]
  },
  {
   "cell_type": "code",
   "execution_count": 6,
   "metadata": {},
   "outputs": [],
   "source": [
    "dtflat, lexflat = [], []\n",
    "hours = []\n",
    "for dt,lex in zip(datetime_sr, lex_sr):\n",
    "    for l in lex:\n",
    "        dtflat.append(dt)\n",
    "        hours.append(dt.hour)\n",
    "        lexflat.append(l)\n",
    "\n",
    "lex_time = pd.DataFrame({\n",
    "    'Hate Speech Phrase': lexflat,\n",
    "    'DateTime': dtflat,\n",
    "    'Hour': hours\n",
    "})\n",
    "lex_time['Date'] = [pd.datetime(d.year, d.month, d.day) for d in lex_time.DateTime]"
   ]
  },
  {
   "cell_type": "code",
   "execution_count": 7,
   "metadata": {},
   "outputs": [
    {
     "output_type": "execute_result",
     "data": {
      "text/plain": "  Hate Speech Phrase            DateTime  Hour       Date\n0            စစ်ခွေး 2020-03-24 13:14:18    13 2020-03-24\n1            စစ်ခွေး 2020-03-24 13:50:46    13 2020-03-24",
      "text/html": "<div>\n<style scoped>\n    .dataframe tbody tr th:only-of-type {\n        vertical-align: middle;\n    }\n\n    .dataframe tbody tr th {\n        vertical-align: top;\n    }\n\n    .dataframe thead th {\n        text-align: right;\n    }\n</style>\n<table border=\"1\" class=\"dataframe\">\n  <thead>\n    <tr style=\"text-align: right;\">\n      <th></th>\n      <th>Hate Speech Phrase</th>\n      <th>DateTime</th>\n      <th>Hour</th>\n      <th>Date</th>\n    </tr>\n  </thead>\n  <tbody>\n    <tr>\n      <th>0</th>\n      <td>စစ်ခွေး</td>\n      <td>2020-03-24 13:14:18</td>\n      <td>13</td>\n      <td>2020-03-24</td>\n    </tr>\n    <tr>\n      <th>1</th>\n      <td>စစ်ခွေး</td>\n      <td>2020-03-24 13:50:46</td>\n      <td>13</td>\n      <td>2020-03-24</td>\n    </tr>\n  </tbody>\n</table>\n</div>"
     },
     "metadata": {},
     "execution_count": 7
    }
   ],
   "source": [
    "lex_time.head(2)"
   ]
  },
  {
   "cell_type": "code",
   "execution_count": 8,
   "metadata": {},
   "outputs": [],
   "source": [
    "lex_time.to_csv('res/lex-time.csv',index=False)"
   ]
  },
  {
   "cell_type": "code",
   "execution_count": 69,
   "metadata": {},
   "outputs": [],
   "source": []
  },
  {
   "cell_type": "code",
   "execution_count": 9,
   "metadata": {},
   "outputs": [
    {
     "output_type": "display_data",
     "data": {
      "text/plain": "Date                2020-03-23 00:00:00  2020-03-24 00:00:00  \\\nHate Speech Phrase                                             \nအကြမ်းဖက်                           140                  464   \nသူပုန်                               86                  174   \nစစ်ခွေး                              75                  110   \nသူခိုး                               36                  109   \nဗမာတွေ                               41                   97   \n\nDate                2020-03-25 00:00:00  Total  \nHate Speech Phrase                              \nအကြမ်းဖက်                            76    680  \nသူပုန်                               50    310  \nစစ်ခွေး                              32    217  \nသူခိုး                               11    156  \nဗမာတွေ                                7    145  ",
      "text/html": "<div>\n<style scoped>\n    .dataframe tbody tr th:only-of-type {\n        vertical-align: middle;\n    }\n\n    .dataframe tbody tr th {\n        vertical-align: top;\n    }\n\n    .dataframe thead th {\n        text-align: right;\n    }\n</style>\n<table border=\"1\" class=\"dataframe\">\n  <thead>\n    <tr style=\"text-align: right;\">\n      <th>Date</th>\n      <th>2020-03-23 00:00:00</th>\n      <th>2020-03-24 00:00:00</th>\n      <th>2020-03-25 00:00:00</th>\n      <th>Total</th>\n    </tr>\n    <tr>\n      <th>Hate Speech Phrase</th>\n      <th></th>\n      <th></th>\n      <th></th>\n      <th></th>\n    </tr>\n  </thead>\n  <tbody>\n    <tr>\n      <th>အကြမ်းဖက်</th>\n      <td>140</td>\n      <td>464</td>\n      <td>76</td>\n      <td>680</td>\n    </tr>\n    <tr>\n      <th>သူပုန်</th>\n      <td>86</td>\n      <td>174</td>\n      <td>50</td>\n      <td>310</td>\n    </tr>\n    <tr>\n      <th>စစ်ခွေး</th>\n      <td>75</td>\n      <td>110</td>\n      <td>32</td>\n      <td>217</td>\n    </tr>\n    <tr>\n      <th>သူခိုး</th>\n      <td>36</td>\n      <td>109</td>\n      <td>11</td>\n      <td>156</td>\n    </tr>\n    <tr>\n      <th>ဗမာတွေ</th>\n      <td>41</td>\n      <td>97</td>\n      <td>7</td>\n      <td>145</td>\n    </tr>\n  </tbody>\n</table>\n</div>"
     },
     "metadata": {}
    }
   ],
   "source": [
    "pv = pd.pivot_table(\n",
    "    lex_time, values='DateTime', index=['Hate Speech Phrase'], columns=['Date'], aggfunc=lambda x: len(x)).fillna(0).astype(int)\n",
    "pv['Total'] = pv.sum(axis=1)\n",
    "pv = pv.sort_values('Total', ascending=False)\n",
    "display(pv.head())\n",
    "pv.to_csv('res/lex-daily.csv')"
   ]
  },
  {
   "cell_type": "code",
   "execution_count": 10,
   "metadata": {},
   "outputs": [],
   "source": [
    "lex_time.groupby(['Hate Speech Phrase', 'Date'])['Date'].count().to_csv('res/lex-group.csv')"
   ]
  },
  {
   "cell_type": "markdown",
   "metadata": {},
   "source": [
    "## Topics"
   ]
  },
  {
   "cell_type": "code",
   "execution_count": 16,
   "metadata": {},
   "outputs": [],
   "source": [
    "# import sys\n",
    "# sys.path.append('/home/bupi/Documents/pdy/packages/MyanmarNLPTools')\n",
    "from MMCleaner import MMCleaner\n",
    "cln = MMCleaner()\n",
    "\n",
    "dx = pd.read_csv('../hsle/data/lexicon_d.csv')\n",
    "\n",
    "tmp = dx.dropna(subset=['label','type'])\n",
    "\n",
    "tmp['label'] = [cln.web_clean(l) for l in tmp.label]\n",
    "tmp['type'] = [cln.web_clean(l) for l in tmp.type]\n",
    "\n",
    "type_dict = {k:v for k,v in zip(tmp.label, tmp.type)}\n",
    "tmp = dx.dropna(subset=['label_alternative_spelling'])\n",
    "tmp['label_alternative_spelling'] = [\n",
    "    cln.web_clean(l) for l in tmp.label_alternative_spelling]\n",
    "type_dict.update({\n",
    "    k:v for k,v in zip(tmp.label_alternative_spelling, tmp.type)})\n",
    "type_dict.update({'nan':'nan'})"
   ]
  },
  {
   "cell_type": "code",
   "execution_count": 17,
   "metadata": {},
   "outputs": [],
   "source": [
    "df['topics_found'] = [[type_dict[a] for a in str(l).split('~')] for l in df.LexFound]"
   ]
  },
  {
   "cell_type": "code",
   "execution_count": 18,
   "metadata": {},
   "outputs": [
    {
     "output_type": "execute_result",
     "data": {
      "text/plain": "                  Date        LexFound                 topics_found\n4  2020-03-24 13:14:18         စစ်ခွေး            [Ethnic Conflict]\n8  2020-03-24 13:50:46  စစ်ခွေး~ဖင်ယား  [Ethnic Conflict, Activism]\n11 2020-03-24 13:55:00         စစ်ခွေး            [Ethnic Conflict]\n31 2020-03-24 13:15:59         စစ်ခွေး            [Ethnic Conflict]\n35 2020-03-24 13:42:05         စစ်ခွေး            [Ethnic Conflict]",
      "text/html": "<div>\n<style scoped>\n    .dataframe tbody tr th:only-of-type {\n        vertical-align: middle;\n    }\n\n    .dataframe tbody tr th {\n        vertical-align: top;\n    }\n\n    .dataframe thead th {\n        text-align: right;\n    }\n</style>\n<table border=\"1\" class=\"dataframe\">\n  <thead>\n    <tr style=\"text-align: right;\">\n      <th></th>\n      <th>Date</th>\n      <th>LexFound</th>\n      <th>topics_found</th>\n    </tr>\n  </thead>\n  <tbody>\n    <tr>\n      <th>4</th>\n      <td>2020-03-24 13:14:18</td>\n      <td>စစ်ခွေး</td>\n      <td>[Ethnic Conflict]</td>\n    </tr>\n    <tr>\n      <th>8</th>\n      <td>2020-03-24 13:50:46</td>\n      <td>စစ်ခွေး~ဖင်ယား</td>\n      <td>[Ethnic Conflict, Activism]</td>\n    </tr>\n    <tr>\n      <th>11</th>\n      <td>2020-03-24 13:55:00</td>\n      <td>စစ်ခွေး</td>\n      <td>[Ethnic Conflict]</td>\n    </tr>\n    <tr>\n      <th>31</th>\n      <td>2020-03-24 13:15:59</td>\n      <td>စစ်ခွေး</td>\n      <td>[Ethnic Conflict]</td>\n    </tr>\n    <tr>\n      <th>35</th>\n      <td>2020-03-24 13:42:05</td>\n      <td>စစ်ခွေး</td>\n      <td>[Ethnic Conflict]</td>\n    </tr>\n  </tbody>\n</table>\n</div>"
     },
     "metadata": {},
     "execution_count": 18
    }
   ],
   "source": [
    "df.head()"
   ]
  },
  {
   "cell_type": "code",
   "execution_count": 19,
   "metadata": {},
   "outputs": [],
   "source": [
    "dtflat, lexflat = [], []\n",
    "topicflat = []\n",
    "hours = []\n",
    "for dt,lex,topic in zip(df.Date, df.LexFound, df.topics_found):\n",
    "    for l,t in zip(lex.split('~'), topic):\n",
    "        dtflat.append(dt)\n",
    "        hours.append(dt.hour)\n",
    "        lexflat.append(l)\n",
    "        topicflat.append(t)\n",
    "\n",
    "topic_time = pd.DataFrame({\n",
    "    'Hate Speech Phrase': lexflat,\n",
    "    'Topic': topicflat,\n",
    "    'DateTime': dtflat,\n",
    "    'Hour': hours\n",
    "})\n",
    "topic_time['Date'] = [pd.datetime(d.year, d.month, d.day) for d in topic_time.DateTime]"
   ]
  },
  {
   "cell_type": "code",
   "execution_count": 20,
   "metadata": {},
   "outputs": [
    {
     "output_type": "stream",
     "name": "stdout",
     "text": "(1983, 5) (1983, 4)\n"
    },
    {
     "output_type": "execute_result",
     "data": {
      "text/plain": "  Hate Speech Phrase            Topic            DateTime  Hour       Date\n0            စစ်ခွေး  Ethnic Conflict 2020-03-24 13:14:18    13 2020-03-24\n1            စစ်ခွေး  Ethnic Conflict 2020-03-24 13:50:46    13 2020-03-24",
      "text/html": "<div>\n<style scoped>\n    .dataframe tbody tr th:only-of-type {\n        vertical-align: middle;\n    }\n\n    .dataframe tbody tr th {\n        vertical-align: top;\n    }\n\n    .dataframe thead th {\n        text-align: right;\n    }\n</style>\n<table border=\"1\" class=\"dataframe\">\n  <thead>\n    <tr style=\"text-align: right;\">\n      <th></th>\n      <th>Hate Speech Phrase</th>\n      <th>Topic</th>\n      <th>DateTime</th>\n      <th>Hour</th>\n      <th>Date</th>\n    </tr>\n  </thead>\n  <tbody>\n    <tr>\n      <th>0</th>\n      <td>စစ်ခွေး</td>\n      <td>Ethnic Conflict</td>\n      <td>2020-03-24 13:14:18</td>\n      <td>13</td>\n      <td>2020-03-24</td>\n    </tr>\n    <tr>\n      <th>1</th>\n      <td>စစ်ခွေး</td>\n      <td>Ethnic Conflict</td>\n      <td>2020-03-24 13:50:46</td>\n      <td>13</td>\n      <td>2020-03-24</td>\n    </tr>\n  </tbody>\n</table>\n</div>"
     },
     "metadata": {},
     "execution_count": 20
    }
   ],
   "source": [
    "topic_time.to_csv('res/topic-time.csv', index=False)\n",
    "print(topic_time.shape, lex_time.shape)\n",
    "topic_time.head(2)"
   ]
  },
  {
   "cell_type": "markdown",
   "metadata": {},
   "source": [
    "## Percentage of Hatespeech"
   ]
  },
  {
   "cell_type": "code",
   "execution_count": 21,
   "metadata": {},
   "outputs": [
    {
     "output_type": "stream",
     "name": "stdout",
     "text": "(58725, 2)\n"
    },
    {
     "output_type": "execute_result",
     "data": {
      "text/plain": "             datetime lex_found\n0 2020-03-24 13:01:38       NaN\n1 2020-03-24 13:02:29       NaN",
      "text/html": "<div>\n<style scoped>\n    .dataframe tbody tr th:only-of-type {\n        vertical-align: middle;\n    }\n\n    .dataframe tbody tr th {\n        vertical-align: top;\n    }\n\n    .dataframe thead th {\n        text-align: right;\n    }\n</style>\n<table border=\"1\" class=\"dataframe\">\n  <thead>\n    <tr style=\"text-align: right;\">\n      <th></th>\n      <th>datetime</th>\n      <th>lex_found</th>\n    </tr>\n  </thead>\n  <tbody>\n    <tr>\n      <th>0</th>\n      <td>2020-03-24 13:01:38</td>\n      <td>NaN</td>\n    </tr>\n    <tr>\n      <th>1</th>\n      <td>2020-03-24 13:02:29</td>\n      <td>NaN</td>\n    </tr>\n  </tbody>\n</table>\n</div>"
     },
     "metadata": {},
     "execution_count": 21
    }
   ],
   "source": [
    "alldf = pd.read_csv(\n",
    "    '../hsle/data/exportcomments-outputs/20200323_20200325/processed/merged.csv', usecols=['LexFound','Date'])\n",
    "alldf.columns = ['datetime','lex_found']\n",
    "alldf['datetime'] = pd.to_datetime(alldf.datetime)\n",
    "print(alldf.shape)\n",
    "alldf.head(2)"
   ]
  },
  {
   "cell_type": "code",
   "execution_count": 22,
   "metadata": {},
   "outputs": [
    {
     "output_type": "execute_result",
     "data": {
      "text/plain": "             datetime lex_found       date\n0 2020-03-24 13:01:38       NaN 2020-03-24\n1 2020-03-24 13:02:29       NaN 2020-03-24",
      "text/html": "<div>\n<style scoped>\n    .dataframe tbody tr th:only-of-type {\n        vertical-align: middle;\n    }\n\n    .dataframe tbody tr th {\n        vertical-align: top;\n    }\n\n    .dataframe thead th {\n        text-align: right;\n    }\n</style>\n<table border=\"1\" class=\"dataframe\">\n  <thead>\n    <tr style=\"text-align: right;\">\n      <th></th>\n      <th>datetime</th>\n      <th>lex_found</th>\n      <th>date</th>\n    </tr>\n  </thead>\n  <tbody>\n    <tr>\n      <th>0</th>\n      <td>2020-03-24 13:01:38</td>\n      <td>NaN</td>\n      <td>2020-03-24</td>\n    </tr>\n    <tr>\n      <th>1</th>\n      <td>2020-03-24 13:02:29</td>\n      <td>NaN</td>\n      <td>2020-03-24</td>\n    </tr>\n  </tbody>\n</table>\n</div>"
     },
     "metadata": {},
     "execution_count": 22
    }
   ],
   "source": [
    "alldf['date'] = [\n",
    "    pd.datetime(d.year, d.month, d.day) for d in alldf.datetime]\n",
    "alldf.head(2)"
   ]
  },
  {
   "cell_type": "code",
   "execution_count": 23,
   "metadata": {},
   "outputs": [],
   "source": [
    "no_lex = alldf.loc[alldf.lex_found.isna(),:]\n",
    "w_lex = alldf.loc[~alldf.lex_found.isna(),:]"
   ]
  },
  {
   "cell_type": "code",
   "execution_count": 24,
   "metadata": {},
   "outputs": [],
   "source": [
    "nlex = no_lex.groupby('date')['date'].count()\n",
    "wlex = w_lex.groupby('date')['date'].count()\n",
    "nlex = nlex[wlex.index]\n",
    "assert 0==len(set(nlex.index).difference(set(wlex.index)))"
   ]
  },
  {
   "cell_type": "code",
   "execution_count": 25,
   "metadata": {},
   "outputs": [],
   "source": [
    "ratiodf = pd.DataFrame({\n",
    "    'No HS': nlex,\n",
    "    'With HS': wlex,\n",
    "    'HS%': wlex / (nlex + wlex)\n",
    "})"
   ]
  },
  {
   "cell_type": "code",
   "execution_count": 26,
   "metadata": {},
   "outputs": [],
   "source": [
    "ratiodf.to_csv('res/ratio.csv')"
   ]
  },
  {
   "cell_type": "markdown",
   "metadata": {},
   "source": [
    "## Page-Topics"
   ]
  },
  {
   "cell_type": "code",
   "execution_count": 28,
   "metadata": {},
   "outputs": [
    {
     "output_type": "execute_result",
     "data": {
      "text/plain": "                 Date        LexFound                 topics_found\n4 2020-03-24 13:14:18         စစ်ခွေး            [Ethnic Conflict]\n8 2020-03-24 13:50:46  စစ်ခွေး~ဖင်ယား  [Ethnic Conflict, Activism]",
      "text/html": "<div>\n<style scoped>\n    .dataframe tbody tr th:only-of-type {\n        vertical-align: middle;\n    }\n\n    .dataframe tbody tr th {\n        vertical-align: top;\n    }\n\n    .dataframe thead th {\n        text-align: right;\n    }\n</style>\n<table border=\"1\" class=\"dataframe\">\n  <thead>\n    <tr style=\"text-align: right;\">\n      <th></th>\n      <th>Date</th>\n      <th>LexFound</th>\n      <th>topics_found</th>\n    </tr>\n  </thead>\n  <tbody>\n    <tr>\n      <th>4</th>\n      <td>2020-03-24 13:14:18</td>\n      <td>စစ်ခွေး</td>\n      <td>[Ethnic Conflict]</td>\n    </tr>\n    <tr>\n      <th>8</th>\n      <td>2020-03-24 13:50:46</td>\n      <td>စစ်ခွေး~ဖင်ယား</td>\n      <td>[Ethnic Conflict, Activism]</td>\n    </tr>\n  </tbody>\n</table>\n</div>"
     },
     "metadata": {},
     "execution_count": 28
    }
   ],
   "source": [
    "df.head(2)"
   ]
  },
  {
   "cell_type": "code",
   "execution_count": null,
   "metadata": {},
   "outputs": [],
   "source": []
  },
  {
   "cell_type": "code",
   "execution_count": null,
   "metadata": {},
   "outputs": [],
   "source": []
  }
 ]
}