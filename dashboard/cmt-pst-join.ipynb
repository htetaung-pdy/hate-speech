{
 "nbformat": 4,
 "nbformat_minor": 2,
 "metadata": {
  "language_info": {
   "name": "python",
   "codemirror_mode": {
    "name": "ipython",
    "version": 3
   },
   "version": "3.7.6-final"
  },
  "orig_nbformat": 2,
  "file_extension": ".py",
  "mimetype": "text/x-python",
  "name": "python",
  "npconvert_exporter": "python",
  "pygments_lexer": "ipython3",
  "version": 3,
  "kernelspec": {
   "name": "python3",
   "display_name": "Python 3"
  }
 },
 "cells": [
  {
   "cell_type": "code",
   "execution_count": 1,
   "metadata": {},
   "outputs": [],
   "source": [
    "import pandas as pd"
   ]
  },
  {
   "cell_type": "code",
   "execution_count": 9,
   "metadata": {},
   "outputs": [
    {
     "output_type": "display_data",
     "data": {
      "text/plain": "         post_id  c_id  n_id       profile_id             datetime  likes  \\\n0  25032020_0072     1     0  100004238449395  2020-03-24 13:01:38      1   \n1  25032020_0072     3     0  100046335742147  2020-03-24 13:02:29      2   \n2  25032020_0072     4     0  100040313773659  2020-03-24 13:02:37      2   \n3  25032020_0072     5     0  100044448832921  2020-03-24 13:03:50     12   \n4  25032020_0072     5     1  100045388926874  2020-03-24 13:14:18      6   \n\n                                     comment_message lex_found  \\\n0                     အမေ စု သက် ရှည် ကျန်းမာ ပါစေ 🙏       NaN   \n1  Educatingpeopleisessential..Teachpeopletodofre...       NaN   \n2  🥵 🥵 🥵 ....... ကျေးဇူးတင် လွာ ....... နိုင်ငံတေ...       NaN   \n3                    အပြော က စကော လက်တွေ့ က ဇီး ရွက်       NaN   \n4        AungSoe မင်း ပထွေး စစ်ခွေး နဲ့ တော့ ကွာ တယ်   စစ်ခွေး   \n\n                                            post_url  \n0  https://www.facebook.com/7daynews/posts/315261...  \n1  https://www.facebook.com/7daynews/posts/315261...  \n2  https://www.facebook.com/7daynews/posts/315261...  \n3  https://www.facebook.com/7daynews/posts/315261...  \n4  https://www.facebook.com/7daynews/posts/315261...  ",
      "text/html": "<div>\n<style scoped>\n    .dataframe tbody tr th:only-of-type {\n        vertical-align: middle;\n    }\n\n    .dataframe tbody tr th {\n        vertical-align: top;\n    }\n\n    .dataframe thead th {\n        text-align: right;\n    }\n</style>\n<table border=\"1\" class=\"dataframe\">\n  <thead>\n    <tr style=\"text-align: right;\">\n      <th></th>\n      <th>post_id</th>\n      <th>c_id</th>\n      <th>n_id</th>\n      <th>profile_id</th>\n      <th>datetime</th>\n      <th>likes</th>\n      <th>comment_message</th>\n      <th>lex_found</th>\n      <th>post_url</th>\n    </tr>\n  </thead>\n  <tbody>\n    <tr>\n      <th>0</th>\n      <td>25032020_0072</td>\n      <td>1</td>\n      <td>0</td>\n      <td>100004238449395</td>\n      <td>2020-03-24 13:01:38</td>\n      <td>1</td>\n      <td>အမေ စု သက် ရှည် ကျန်းမာ ပါစေ 🙏</td>\n      <td>NaN</td>\n      <td>https://www.facebook.com/7daynews/posts/315261...</td>\n    </tr>\n    <tr>\n      <th>1</th>\n      <td>25032020_0072</td>\n      <td>3</td>\n      <td>0</td>\n      <td>100046335742147</td>\n      <td>2020-03-24 13:02:29</td>\n      <td>2</td>\n      <td>Educatingpeopleisessential..Teachpeopletodofre...</td>\n      <td>NaN</td>\n      <td>https://www.facebook.com/7daynews/posts/315261...</td>\n    </tr>\n    <tr>\n      <th>2</th>\n      <td>25032020_0072</td>\n      <td>4</td>\n      <td>0</td>\n      <td>100040313773659</td>\n      <td>2020-03-24 13:02:37</td>\n      <td>2</td>\n      <td>🥵 🥵 🥵 ....... ကျေးဇူးတင် လွာ ....... နိုင်ငံတေ...</td>\n      <td>NaN</td>\n      <td>https://www.facebook.com/7daynews/posts/315261...</td>\n    </tr>\n    <tr>\n      <th>3</th>\n      <td>25032020_0072</td>\n      <td>5</td>\n      <td>0</td>\n      <td>100044448832921</td>\n      <td>2020-03-24 13:03:50</td>\n      <td>12</td>\n      <td>အပြော က စကော လက်တွေ့ က ဇီး ရွက်</td>\n      <td>NaN</td>\n      <td>https://www.facebook.com/7daynews/posts/315261...</td>\n    </tr>\n    <tr>\n      <th>4</th>\n      <td>25032020_0072</td>\n      <td>5</td>\n      <td>1</td>\n      <td>100045388926874</td>\n      <td>2020-03-24 13:14:18</td>\n      <td>6</td>\n      <td>AungSoe မင်း ပထွေး စစ်ခွေး နဲ့ တော့ ကွာ တယ်</td>\n      <td>စစ်ခွေး</td>\n      <td>https://www.facebook.com/7daynews/posts/315261...</td>\n    </tr>\n  </tbody>\n</table>\n</div>"
     },
     "metadata": {}
    },
    {
     "output_type": "display_data",
     "data": {
      "text/plain": "                                page_name  \\\n0                                 AKonThi   \n1                   MOI Webportal Myanmar   \n2         The Irrawaddy - Burmese Edition   \n3  Ministry of Health and Sports, Myanmar   \n4  Ministry of Health and Sports, Myanmar   \n\n                                            post_url  comments  shares  \\\n0  https://www.facebook.com/AKonThiNEWS/posts/117...     33769     858   \n1  https://www.facebook.com/MOIWebportalMyanmar/p...      4605     272   \n2  https://www.facebook.com/theirrawaddyburmese/p...     76336    1443   \n3  https://www.facebook.com/MinistryOfHealthAndSp...     95110   17712   \n4  https://www.facebook.com/MinistryOfHealthAndSp...      9115     245   \n\n     love   wow   haha  sad  angry  thankful  likes  \\\n0   57029  1256     44   80     35         7      0   \n1    9095    13    382    3   1949         5      0   \n2   94329  1271    290   89    118        28      0   \n3  352093   514  16547  169  71554       242      0   \n4    2801   829      9    3     25         0      0   \n\n                                        post_message  lex_found  \n0  နိုင်ငံတော် ၏ အတိုင်ပင်ခံ ပုဂ္ဂိုလ် ဒေါ် အောင်...        NaN  \n1  COVID-19 ရောဂါ စောင့်ကြပ် ကြည့်ရှု မှု နှင့် ပ...        NaN  \n2  ပိုး တွေ့ လူနာ ၂ ဦး စိုးရိမ် စရာ မရှိ ပါ ၊ သတင...        NaN  \n3  COVID-19 ရောဂါ စောင့်ကြပ် ကြည့်ရှု မှု နှင့် ပ...        NaN  \n4  COVID-19 ကာကွယ် ထိန်းချုပ် ကုသ ရေး အတွက် မိမိ ...        NaN  ",
      "text/html": "<div>\n<style scoped>\n    .dataframe tbody tr th:only-of-type {\n        vertical-align: middle;\n    }\n\n    .dataframe tbody tr th {\n        vertical-align: top;\n    }\n\n    .dataframe thead th {\n        text-align: right;\n    }\n</style>\n<table border=\"1\" class=\"dataframe\">\n  <thead>\n    <tr style=\"text-align: right;\">\n      <th></th>\n      <th>page_name</th>\n      <th>post_url</th>\n      <th>comments</th>\n      <th>shares</th>\n      <th>love</th>\n      <th>wow</th>\n      <th>haha</th>\n      <th>sad</th>\n      <th>angry</th>\n      <th>thankful</th>\n      <th>likes</th>\n      <th>post_message</th>\n      <th>lex_found</th>\n    </tr>\n  </thead>\n  <tbody>\n    <tr>\n      <th>0</th>\n      <td>AKonThi</td>\n      <td>https://www.facebook.com/AKonThiNEWS/posts/117...</td>\n      <td>33769</td>\n      <td>858</td>\n      <td>57029</td>\n      <td>1256</td>\n      <td>44</td>\n      <td>80</td>\n      <td>35</td>\n      <td>7</td>\n      <td>0</td>\n      <td>နိုင်ငံတော် ၏ အတိုင်ပင်ခံ ပုဂ္ဂိုလ် ဒေါ် အောင်...</td>\n      <td>NaN</td>\n    </tr>\n    <tr>\n      <th>1</th>\n      <td>MOI Webportal Myanmar</td>\n      <td>https://www.facebook.com/MOIWebportalMyanmar/p...</td>\n      <td>4605</td>\n      <td>272</td>\n      <td>9095</td>\n      <td>13</td>\n      <td>382</td>\n      <td>3</td>\n      <td>1949</td>\n      <td>5</td>\n      <td>0</td>\n      <td>COVID-19 ရောဂါ စောင့်ကြပ် ကြည့်ရှု မှု နှင့် ပ...</td>\n      <td>NaN</td>\n    </tr>\n    <tr>\n      <th>2</th>\n      <td>The Irrawaddy - Burmese Edition</td>\n      <td>https://www.facebook.com/theirrawaddyburmese/p...</td>\n      <td>76336</td>\n      <td>1443</td>\n      <td>94329</td>\n      <td>1271</td>\n      <td>290</td>\n      <td>89</td>\n      <td>118</td>\n      <td>28</td>\n      <td>0</td>\n      <td>ပိုး တွေ့ လူနာ ၂ ဦး စိုးရိမ် စရာ မရှိ ပါ ၊ သတင...</td>\n      <td>NaN</td>\n    </tr>\n    <tr>\n      <th>3</th>\n      <td>Ministry of Health and Sports, Myanmar</td>\n      <td>https://www.facebook.com/MinistryOfHealthAndSp...</td>\n      <td>95110</td>\n      <td>17712</td>\n      <td>352093</td>\n      <td>514</td>\n      <td>16547</td>\n      <td>169</td>\n      <td>71554</td>\n      <td>242</td>\n      <td>0</td>\n      <td>COVID-19 ရောဂါ စောင့်ကြပ် ကြည့်ရှု မှု နှင့် ပ...</td>\n      <td>NaN</td>\n    </tr>\n    <tr>\n      <th>4</th>\n      <td>Ministry of Health and Sports, Myanmar</td>\n      <td>https://www.facebook.com/MinistryOfHealthAndSp...</td>\n      <td>9115</td>\n      <td>245</td>\n      <td>2801</td>\n      <td>829</td>\n      <td>9</td>\n      <td>3</td>\n      <td>25</td>\n      <td>0</td>\n      <td>0</td>\n      <td>COVID-19 ကာကွယ် ထိန်းချုပ် ကုသ ရေး အတွက် မိမိ ...</td>\n      <td>NaN</td>\n    </tr>\n  </tbody>\n</table>\n</div>"
     },
     "metadata": {}
    },
    {
     "output_type": "display_data",
     "data": {
      "text/plain": "Empty DataFrame\nColumns: [post_id, c_id, n_id, profile_id, datetime, likes_x, comment_message, lex_found_x, post_url, page_name, comments, shares, love, wow, haha, sad, angry, thankful, likes_y, post_message, lex_found_y]\nIndex: []\n\n[0 rows x 21 columns]",
      "text/html": "<div>\n<style scoped>\n    .dataframe tbody tr th:only-of-type {\n        vertical-align: middle;\n    }\n\n    .dataframe tbody tr th {\n        vertical-align: top;\n    }\n\n    .dataframe thead th {\n        text-align: right;\n    }\n</style>\n<table border=\"1\" class=\"dataframe\">\n  <thead>\n    <tr style=\"text-align: right;\">\n      <th></th>\n      <th>post_id</th>\n      <th>c_id</th>\n      <th>n_id</th>\n      <th>profile_id</th>\n      <th>datetime</th>\n      <th>likes_x</th>\n      <th>comment_message</th>\n      <th>lex_found_x</th>\n      <th>post_url</th>\n      <th>page_name</th>\n      <th>...</th>\n      <th>shares</th>\n      <th>love</th>\n      <th>wow</th>\n      <th>haha</th>\n      <th>sad</th>\n      <th>angry</th>\n      <th>thankful</th>\n      <th>likes_y</th>\n      <th>post_message</th>\n      <th>lex_found_y</th>\n    </tr>\n  </thead>\n  <tbody>\n  </tbody>\n</table>\n<p>0 rows × 21 columns</p>\n</div>"
     },
     "metadata": {}
    }
   ],
   "source": [
    "cmt_file = '/home/bupi/Documents/pdy/hs/dashboard/clean/comments/20200323_20200325.csv'\n",
    "pst_file = cmt_file.replace('comments','posts')\n",
    "\n",
    "cmtdf = pd.read_csv(cmt_file, nrows=10)\n",
    "pstdf = pd.read_csv(pst_file, nrows=10)\n",
    "display(cmtdf.head())\n",
    "display(pstdf.head())\n",
    "display(cmtdf.merge(pstdf, on='post_url'))"
   ]
  },
  {
   "cell_type": "code",
   "execution_count": 4,
   "metadata": {},
   "outputs": [
    {
     "output_type": "stream",
     "name": "stdout",
     "text": "7\n"
    }
   ],
   "source": [
    "from glob import glob\n",
    "post_files = glob('/home/bupi/Documents/pdy/hs/dashboard/clean/posts/*.csv')\n",
    "print(len(post_files))"
   ]
  },
  {
   "cell_type": "code",
   "execution_count": 7,
   "metadata": {},
   "outputs": [
    {
     "output_type": "display_data",
     "data": {
      "text/plain": "                   page_name  \\\n0  Mizzima - News in Burmese   \n\n                                            post_url  comments  shares   love  \\\n0  https://www.facebook.com/MizzimaDaily/posts/31...    148064    4014  43201   \n\n    wow  haha  sad  angry  thankful  likes  \\\n0  1387  1141  243    160        88      0   \n\n                                        post_message  lex_found  \n0  ကား ခ နှစ် ဆ တောင်း ၍ ပန်း တော် ဦး ယာဉ် လိုင်း...        NaN  ",
      "text/html": "<div>\n<style scoped>\n    .dataframe tbody tr th:only-of-type {\n        vertical-align: middle;\n    }\n\n    .dataframe tbody tr th {\n        vertical-align: top;\n    }\n\n    .dataframe thead th {\n        text-align: right;\n    }\n</style>\n<table border=\"1\" class=\"dataframe\">\n  <thead>\n    <tr style=\"text-align: right;\">\n      <th></th>\n      <th>page_name</th>\n      <th>post_url</th>\n      <th>comments</th>\n      <th>shares</th>\n      <th>love</th>\n      <th>wow</th>\n      <th>haha</th>\n      <th>sad</th>\n      <th>angry</th>\n      <th>thankful</th>\n      <th>likes</th>\n      <th>post_message</th>\n      <th>lex_found</th>\n    </tr>\n  </thead>\n  <tbody>\n    <tr>\n      <th>0</th>\n      <td>Mizzima - News in Burmese</td>\n      <td>https://www.facebook.com/MizzimaDaily/posts/31...</td>\n      <td>148064</td>\n      <td>4014</td>\n      <td>43201</td>\n      <td>1387</td>\n      <td>1141</td>\n      <td>243</td>\n      <td>160</td>\n      <td>88</td>\n      <td>0</td>\n      <td>ကား ခ နှစ် ဆ တောင်း ၍ ပန်း တော် ဦး ယာဉ် လိုင်း...</td>\n      <td>NaN</td>\n    </tr>\n  </tbody>\n</table>\n</div>"
     },
     "metadata": {}
    },
    {
     "output_type": "display_data",
     "data": {
      "text/plain": "                                    page_name  \\\n0  Ministry of Electricity and Energy,Myanmar   \n\n                                            post_url  comments  shares   love  \\\n0  https://www.facebook.com/MOEEMyanmar/posts/924...     12216    1677  11146   \n\n   wow  haha  sad  angry  thankful  likes  \\\n0  172   248   24    198        13      0   \n\n                                        post_message  lex_found  \n0  ပြည် သူများ သို့ လျှပ်စစ်မီး ပြတ်တောက် နေ မှု ...        NaN  ",
      "text/html": "<div>\n<style scoped>\n    .dataframe tbody tr th:only-of-type {\n        vertical-align: middle;\n    }\n\n    .dataframe tbody tr th {\n        vertical-align: top;\n    }\n\n    .dataframe thead th {\n        text-align: right;\n    }\n</style>\n<table border=\"1\" class=\"dataframe\">\n  <thead>\n    <tr style=\"text-align: right;\">\n      <th></th>\n      <th>page_name</th>\n      <th>post_url</th>\n      <th>comments</th>\n      <th>shares</th>\n      <th>love</th>\n      <th>wow</th>\n      <th>haha</th>\n      <th>sad</th>\n      <th>angry</th>\n      <th>thankful</th>\n      <th>likes</th>\n      <th>post_message</th>\n      <th>lex_found</th>\n    </tr>\n  </thead>\n  <tbody>\n    <tr>\n      <th>0</th>\n      <td>Ministry of Electricity and Energy,Myanmar</td>\n      <td>https://www.facebook.com/MOEEMyanmar/posts/924...</td>\n      <td>12216</td>\n      <td>1677</td>\n      <td>11146</td>\n      <td>172</td>\n      <td>248</td>\n      <td>24</td>\n      <td>198</td>\n      <td>13</td>\n      <td>0</td>\n      <td>ပြည် သူများ သို့ လျှပ်စစ်မီး ပြတ်တောက် နေ မှု ...</td>\n      <td>NaN</td>\n    </tr>\n  </tbody>\n</table>\n</div>"
     },
     "metadata": {}
    },
    {
     "output_type": "display_data",
     "data": {
      "text/plain": "   page_name                                           post_url  comments  \\\n0  ApannPyay  https://www.facebook.com/ApannPyay/posts/36268...     33122   \n\n   shares   love  wow  haha  sad  angry  thankful  likes  \\\n0   21539  45983  107  3754  526    870     11354      0   \n\n                                        post_message  lex_found  \n0  ခဏ လေး သည်းခံ ပြီး အစစ်ခံ လိုက် ရင် ဘာ များ ဖြ...        NaN  ",
      "text/html": "<div>\n<style scoped>\n    .dataframe tbody tr th:only-of-type {\n        vertical-align: middle;\n    }\n\n    .dataframe tbody tr th {\n        vertical-align: top;\n    }\n\n    .dataframe thead th {\n        text-align: right;\n    }\n</style>\n<table border=\"1\" class=\"dataframe\">\n  <thead>\n    <tr style=\"text-align: right;\">\n      <th></th>\n      <th>page_name</th>\n      <th>post_url</th>\n      <th>comments</th>\n      <th>shares</th>\n      <th>love</th>\n      <th>wow</th>\n      <th>haha</th>\n      <th>sad</th>\n      <th>angry</th>\n      <th>thankful</th>\n      <th>likes</th>\n      <th>post_message</th>\n      <th>lex_found</th>\n    </tr>\n  </thead>\n  <tbody>\n    <tr>\n      <th>0</th>\n      <td>ApannPyay</td>\n      <td>https://www.facebook.com/ApannPyay/posts/36268...</td>\n      <td>33122</td>\n      <td>21539</td>\n      <td>45983</td>\n      <td>107</td>\n      <td>3754</td>\n      <td>526</td>\n      <td>870</td>\n      <td>11354</td>\n      <td>0</td>\n      <td>ခဏ လေး သည်းခံ ပြီး အစစ်ခံ လိုက် ရင် ဘာ များ ဖြ...</td>\n      <td>NaN</td>\n    </tr>\n  </tbody>\n</table>\n</div>"
     },
     "metadata": {}
    },
    {
     "output_type": "display_data",
     "data": {
      "text/plain": "               page_name                                           post_url  \\\n0  MOI Webportal Myanmar  https://www.facebook.com/MOIWebportalMyanmar/p...   \n\n   comments  shares  love  wow  haha  sad  angry  thankful  likes  \\\n0      8621    1037  7258   44   141  189     51        15      0   \n\n                                        post_message  lex_found  \n0  ပြည်ထောင်စု သမ္မတ မြန်မာနိုင်ငံ တော် အစိုးရ ကျ...        NaN  ",
      "text/html": "<div>\n<style scoped>\n    .dataframe tbody tr th:only-of-type {\n        vertical-align: middle;\n    }\n\n    .dataframe tbody tr th {\n        vertical-align: top;\n    }\n\n    .dataframe thead th {\n        text-align: right;\n    }\n</style>\n<table border=\"1\" class=\"dataframe\">\n  <thead>\n    <tr style=\"text-align: right;\">\n      <th></th>\n      <th>page_name</th>\n      <th>post_url</th>\n      <th>comments</th>\n      <th>shares</th>\n      <th>love</th>\n      <th>wow</th>\n      <th>haha</th>\n      <th>sad</th>\n      <th>angry</th>\n      <th>thankful</th>\n      <th>likes</th>\n      <th>post_message</th>\n      <th>lex_found</th>\n    </tr>\n  </thead>\n  <tbody>\n    <tr>\n      <th>0</th>\n      <td>MOI Webportal Myanmar</td>\n      <td>https://www.facebook.com/MOIWebportalMyanmar/p...</td>\n      <td>8621</td>\n      <td>1037</td>\n      <td>7258</td>\n      <td>44</td>\n      <td>141</td>\n      <td>189</td>\n      <td>51</td>\n      <td>15</td>\n      <td>0</td>\n      <td>ပြည်ထောင်စု သမ္မတ မြန်မာနိုင်ငံ တော် အစိုးရ ကျ...</td>\n      <td>NaN</td>\n    </tr>\n  </tbody>\n</table>\n</div>"
     },
     "metadata": {}
    },
    {
     "output_type": "display_data",
     "data": {
      "text/plain": "  page_name                                           post_url  comments  \\\n0   AKonThi  https://www.facebook.com/AKonThiNEWS/posts/117...     33769   \n\n   shares   love   wow  haha  sad  angry  thankful  likes  \\\n0     858  57029  1256    44   80     35         7      0   \n\n                                        post_message  lex_found  \n0  နိုင်ငံတော် ၏ အတိုင်ပင်ခံ ပုဂ္ဂိုလ် ဒေါ် အောင်...        NaN  ",
      "text/html": "<div>\n<style scoped>\n    .dataframe tbody tr th:only-of-type {\n        vertical-align: middle;\n    }\n\n    .dataframe tbody tr th {\n        vertical-align: top;\n    }\n\n    .dataframe thead th {\n        text-align: right;\n    }\n</style>\n<table border=\"1\" class=\"dataframe\">\n  <thead>\n    <tr style=\"text-align: right;\">\n      <th></th>\n      <th>page_name</th>\n      <th>post_url</th>\n      <th>comments</th>\n      <th>shares</th>\n      <th>love</th>\n      <th>wow</th>\n      <th>haha</th>\n      <th>sad</th>\n      <th>angry</th>\n      <th>thankful</th>\n      <th>likes</th>\n      <th>post_message</th>\n      <th>lex_found</th>\n    </tr>\n  </thead>\n  <tbody>\n    <tr>\n      <th>0</th>\n      <td>AKonThi</td>\n      <td>https://www.facebook.com/AKonThiNEWS/posts/117...</td>\n      <td>33769</td>\n      <td>858</td>\n      <td>57029</td>\n      <td>1256</td>\n      <td>44</td>\n      <td>80</td>\n      <td>35</td>\n      <td>7</td>\n      <td>0</td>\n      <td>နိုင်ငံတော် ၏ အတိုင်ပင်ခံ ပုဂ္ဂိုလ် ဒေါ် အောင်...</td>\n      <td>NaN</td>\n    </tr>\n  </tbody>\n</table>\n</div>"
     },
     "metadata": {}
    },
    {
     "output_type": "display_data",
     "data": {
      "text/plain": "          page_name                                           post_url  \\\n0  PK  online store  https://www.facebook.com/pkonline2020/posts/20...   \n\n   comments  shares   love  wow  haha  sad  angry  thankful  likes  \\\n0     49324     306  28430  292   895   64   3401        41      0   \n\n                                        post_message  lex_found  \n0  အလောင်း ထား စရာ နေရာ အခက် ခဲ ဖြစ် နေ တယ် တဲ့ စ...        NaN  ",
      "text/html": "<div>\n<style scoped>\n    .dataframe tbody tr th:only-of-type {\n        vertical-align: middle;\n    }\n\n    .dataframe tbody tr th {\n        vertical-align: top;\n    }\n\n    .dataframe thead th {\n        text-align: right;\n    }\n</style>\n<table border=\"1\" class=\"dataframe\">\n  <thead>\n    <tr style=\"text-align: right;\">\n      <th></th>\n      <th>page_name</th>\n      <th>post_url</th>\n      <th>comments</th>\n      <th>shares</th>\n      <th>love</th>\n      <th>wow</th>\n      <th>haha</th>\n      <th>sad</th>\n      <th>angry</th>\n      <th>thankful</th>\n      <th>likes</th>\n      <th>post_message</th>\n      <th>lex_found</th>\n    </tr>\n  </thead>\n  <tbody>\n    <tr>\n      <th>0</th>\n      <td>PK  online store</td>\n      <td>https://www.facebook.com/pkonline2020/posts/20...</td>\n      <td>49324</td>\n      <td>306</td>\n      <td>28430</td>\n      <td>292</td>\n      <td>895</td>\n      <td>64</td>\n      <td>3401</td>\n      <td>41</td>\n      <td>0</td>\n      <td>အလောင်း ထား စရာ နေရာ အခက် ခဲ ဖြစ် နေ တယ် တဲ့ စ...</td>\n      <td>NaN</td>\n    </tr>\n  </tbody>\n</table>\n</div>"
     },
     "metadata": {}
    },
    {
     "output_type": "display_data",
     "data": {
      "text/plain": "        page_name                                           post_url  \\\n0  ပြည်သတင်း Live  https://www.facebook.com/pyaynewslive/posts/87...   \n\n   comments  shares   love  wow  haha  sad  angry  thankful  likes  \\\n0     14748    1440  11866  317   495   34   5339        36      0   \n\n                                        post_message  lex_found  \n0  ပြည် မြို့ ဆေးရုံ ကြီး တွင် ကုသ လျှက် ရှိ သော ...        NaN  ",
      "text/html": "<div>\n<style scoped>\n    .dataframe tbody tr th:only-of-type {\n        vertical-align: middle;\n    }\n\n    .dataframe tbody tr th {\n        vertical-align: top;\n    }\n\n    .dataframe thead th {\n        text-align: right;\n    }\n</style>\n<table border=\"1\" class=\"dataframe\">\n  <thead>\n    <tr style=\"text-align: right;\">\n      <th></th>\n      <th>page_name</th>\n      <th>post_url</th>\n      <th>comments</th>\n      <th>shares</th>\n      <th>love</th>\n      <th>wow</th>\n      <th>haha</th>\n      <th>sad</th>\n      <th>angry</th>\n      <th>thankful</th>\n      <th>likes</th>\n      <th>post_message</th>\n      <th>lex_found</th>\n    </tr>\n  </thead>\n  <tbody>\n    <tr>\n      <th>0</th>\n      <td>ပြည်သတင်း Live</td>\n      <td>https://www.facebook.com/pyaynewslive/posts/87...</td>\n      <td>14748</td>\n      <td>1440</td>\n      <td>11866</td>\n      <td>317</td>\n      <td>495</td>\n      <td>34</td>\n      <td>5339</td>\n      <td>36</td>\n      <td>0</td>\n      <td>ပြည် မြို့ ဆေးရုံ ကြီး တွင် ကုသ လျှက် ရှိ သော ...</td>\n      <td>NaN</td>\n    </tr>\n  </tbody>\n</table>\n</div>"
     },
     "metadata": {}
    }
   ],
   "source": [
    "for pf in post_files:\n",
    "    display(pd.read_csv(pf, nrows=1))"
   ]
  },
  {
   "cell_type": "code",
   "execution_count": 6,
   "metadata": {},
   "outputs": [],
   "source": [
    "POST_COLS2LOAD = [\n",
    "        'Page Name',\n",
    "        'URL',\n",
    "        'Likes',\n",
    "        'Comments',\n",
    "        'Shares',\n",
    "        'Love',\n",
    "        'Wow',\n",
    "        'Haha',\n",
    "        'Sad',\n",
    "        'Angry',\n",
    "        'Thankful',\n",
    "        'MsgUniCleanSeg'\n",
    "    ]\n",
    "POST_COL_NAMES = 'page_name\tlikes\tcomments\tshares\tlove\twow\thaha\tsad\tangry\tthankful\tpost_url\tpost_message'.split()"
   ]
  },
  {
   "cell_type": "code",
   "execution_count": null,
   "metadata": {},
   "outputs": [],
   "source": []
  }
 ]
}