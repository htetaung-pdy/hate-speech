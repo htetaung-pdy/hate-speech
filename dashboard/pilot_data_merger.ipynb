{
 "nbformat": 4,
 "nbformat_minor": 2,
 "metadata": {
  "language_info": {
   "name": "python",
   "codemirror_mode": {
    "name": "ipython",
    "version": 3
   },
   "version": "3.7.6-final"
  },
  "orig_nbformat": 2,
  "file_extension": ".py",
  "mimetype": "text/x-python",
  "name": "python",
  "npconvert_exporter": "python",
  "pygments_lexer": "ipython3",
  "version": 3,
  "kernelspec": {
   "name": "python3",
   "display_name": "Python 3"
  }
 },
 "cells": [
  {
   "cell_type": "markdown",
   "metadata": {},
   "source": [
    "## Steps\n",
    "\n",
    "- Load a `merged` file.\n",
    "- ~~Join on `PostURL` for `Page Name`~~.\n",
    "- Only look up the `Page Name`.\n",
    "- Recalculate `LexFound`.\n",
    "- Keep the desired columns.\n",
    "- Repeat until all merged files are done.\n",
    "- Merge the merged files.\n",
    "- Do analysis."
   ]
  },
  {
   "cell_type": "code",
   "execution_count": 2,
   "metadata": {},
   "outputs": [],
   "source": [
    "import pandas as pd\n",
    "import numpy as np\n",
    "from tqdm import tqdm\n",
    "from glob import glob\n",
    "# import sys\n",
    "# sys.path.append('/home/bupi/Documents/pdy/hs/hsle/src')\n",
    "import HsleCandidateGenerationUtils as hsle"
   ]
  },
  {
   "cell_type": "code",
   "execution_count": 3,
   "metadata": {},
   "outputs": [],
   "source": [
    "merged_files = glob('../hsle/data/exportcomments-outputs/*/processed/merged.csv')"
   ]
  },
  {
   "cell_type": "code",
   "execution_count": 4,
   "metadata": {},
   "outputs": [
    {
     "output_type": "execute_result",
     "data": {
      "text/plain": "['../hsle/data/exportcomments-outputs/20200329_20200331/processed/merged.csv',\n '../hsle/data/exportcomments-outputs/20200403_20200405/processed/merged.csv',\n '../hsle/data/exportcomments-outputs/20200323_20200325/processed/merged.csv']"
     },
     "metadata": {},
     "execution_count": 4
    }
   ],
   "source": [
    "merged_files"
   ]
  },
  {
   "cell_type": "code",
   "execution_count": 5,
   "metadata": {},
   "outputs": [
    {
     "output_type": "stream",
     "name": "stdout",
     "text": "(82552, 6)\n"
    },
    {
     "output_type": "display_data",
     "data": {
      "text/plain": "            Profile ID                 Date  Likes  \\\n0  ID: 100007659289464  2020-03-29 23:48:23     20   \n1  ID: 100017115008349  2020-03-29 23:51:47      7   \n\n                                           MsgUniSeg LexFound  \\\n0  အရမ်း များ စော နေ မ လား ဗျ ။ YBS တွေ မြို့ပတ်ရ...      NaN   \n1  စော သေး တယ် နေ ပါ အုံး လား သုံး လ ကြီး များ တေ...      NaN   \n\n                                             PostURL  \n0  https://www.facebook.com/MOIWebportalMyanmar/p...  \n1  https://www.facebook.com/MOIWebportalMyanmar/p...  ",
      "text/html": "<div>\n<style scoped>\n    .dataframe tbody tr th:only-of-type {\n        vertical-align: middle;\n    }\n\n    .dataframe tbody tr th {\n        vertical-align: top;\n    }\n\n    .dataframe thead th {\n        text-align: right;\n    }\n</style>\n<table border=\"1\" class=\"dataframe\">\n  <thead>\n    <tr style=\"text-align: right;\">\n      <th></th>\n      <th>Profile ID</th>\n      <th>Date</th>\n      <th>Likes</th>\n      <th>MsgUniSeg</th>\n      <th>LexFound</th>\n      <th>PostURL</th>\n    </tr>\n  </thead>\n  <tbody>\n    <tr>\n      <th>0</th>\n      <td>ID: 100007659289464</td>\n      <td>2020-03-29 23:48:23</td>\n      <td>20</td>\n      <td>အရမ်း များ စော နေ မ လား ဗျ ။ YBS တွေ မြို့ပတ်ရ...</td>\n      <td>NaN</td>\n      <td>https://www.facebook.com/MOIWebportalMyanmar/p...</td>\n    </tr>\n    <tr>\n      <th>1</th>\n      <td>ID: 100017115008349</td>\n      <td>2020-03-29 23:51:47</td>\n      <td>7</td>\n      <td>စော သေး တယ် နေ ပါ အုံး လား သုံး လ ကြီး များ တေ...</td>\n      <td>NaN</td>\n      <td>https://www.facebook.com/MOIWebportalMyanmar/p...</td>\n    </tr>\n  </tbody>\n</table>\n</div>"
     },
     "metadata": {}
    }
   ],
   "source": [
    "# load merged file\n",
    "mf = merged_files[0]\n",
    "cols2load = [\n",
    "    'Profile ID',\n",
    "    'Date',\n",
    "    'Likes',\n",
    "    'MsgUniSeg',\n",
    "    'LexFound',\n",
    "    'PostURL'\n",
    "]\n",
    "df = pd.read_csv(mf, usecols=cols2load)\n",
    "print(df.shape)\n",
    "display(df.head(2))"
   ]
  },
  {
   "cell_type": "code",
   "execution_count": 32,
   "metadata": {},
   "outputs": [
    {
     "output_type": "execute_result",
     "data": {
      "text/plain": "Index(['Page Name', 'User Name', 'Facebook Id', 'Likes at Posting', 'Created',\n       'Type', 'Likes', 'Comments', 'Shares', 'Love', 'Wow', 'Haha', 'Sad',\n       'Angry', 'Thankful', 'Video Share Status', 'Post Views', 'Total Views',\n       'Total Views for all Crossposts', 'Video Length', 'URL', 'Message',\n       'Link', 'Final Link', 'Link Text', 'Description', 'Sponsor Id',\n       'Sponsor Name', 'Overperforming Score', 'commentsFile', 'PostId',\n       'MessageUni', 'MsgUniCleanSeg'],\n      dtype='object')"
     },
     "metadata": {},
     "execution_count": 32
    }
   ],
   "source": [
    "post_file = '../hsle/data/crowdtangle-posts/processed_{}.csv'.format(mf.split('/')[-3])\n",
    "postdf = pd.read_csv(post_file, sep='~')\n",
    "postdf.columns"
   ]
  },
  {
   "cell_type": "code",
   "execution_count": 23,
   "metadata": {},
   "outputs": [
    {
     "output_type": "stream",
     "name": "stdout",
     "text": "(400, 12)\n"
    },
    {
     "output_type": "execute_result",
     "data": {
      "text/plain": "                                 PageName  \\\n0                               ApannPyay   \n1  Ministry of Health and Sports, Myanmar   \n\n                                                 URL  Likes  Comments  Shares  \\\n0  https://www.facebook.com/ApannPyay/posts/36268...  33122     21539   45983   \n1  https://www.facebook.com/MinistryOfHealthAndSp...  18327       732    3883   \n\n   Love   Wow  Haha  Sad  Angry  Thankful  \\\n0   107  3754   526  870  11354         0   \n1   143    35    39  170     12         0   \n\n                                           MsgUniSeg  \n0  ခဏ လေး သည်းခံ ပြီး အစစ်ခံ လိုက် ရင် ဘာ များ ဖြ...  \n1  နယ်စပ် ဂိတ် များ မှတစ်ဆင့် မြန်မာနိုင်ငံ သို့ ...  ",
      "text/html": "<div>\n<style scoped>\n    .dataframe tbody tr th:only-of-type {\n        vertical-align: middle;\n    }\n\n    .dataframe tbody tr th {\n        vertical-align: top;\n    }\n\n    .dataframe thead th {\n        text-align: right;\n    }\n</style>\n<table border=\"1\" class=\"dataframe\">\n  <thead>\n    <tr style=\"text-align: right;\">\n      <th></th>\n      <th>PageName</th>\n      <th>URL</th>\n      <th>Likes</th>\n      <th>Comments</th>\n      <th>Shares</th>\n      <th>Love</th>\n      <th>Wow</th>\n      <th>Haha</th>\n      <th>Sad</th>\n      <th>Angry</th>\n      <th>Thankful</th>\n      <th>MsgUniSeg</th>\n    </tr>\n  </thead>\n  <tbody>\n    <tr>\n      <th>0</th>\n      <td>ApannPyay</td>\n      <td>https://www.facebook.com/ApannPyay/posts/36268...</td>\n      <td>33122</td>\n      <td>21539</td>\n      <td>45983</td>\n      <td>107</td>\n      <td>3754</td>\n      <td>526</td>\n      <td>870</td>\n      <td>11354</td>\n      <td>0</td>\n      <td>ခဏ လေး သည်းခံ ပြီး အစစ်ခံ လိုက် ရင် ဘာ များ ဖြ...</td>\n    </tr>\n    <tr>\n      <th>1</th>\n      <td>Ministry of Health and Sports, Myanmar</td>\n      <td>https://www.facebook.com/MinistryOfHealthAndSp...</td>\n      <td>18327</td>\n      <td>732</td>\n      <td>3883</td>\n      <td>143</td>\n      <td>35</td>\n      <td>39</td>\n      <td>170</td>\n      <td>12</td>\n      <td>0</td>\n      <td>နယ်စပ် ဂိတ် များ မှတစ်ဆင့် မြန်မာနိုင်ငံ သို့ ...</td>\n    </tr>\n  </tbody>\n</table>\n</div>"
     },
     "metadata": {},
     "execution_count": 23
    }
   ],
   "source": [
    "post_cols2load = [\n",
    "    'Page Name',\n",
    "    'URL',\n",
    "    'Likes',\n",
    "    'Comments',\n",
    "    'Shares',\n",
    "    'Love',\n",
    "    'Wow',\n",
    "    'Haha',\n",
    "    'Sad',\n",
    "    'Angry',\n",
    "    'Thankful',\n",
    "    'MsgUniCleanSeg'\n",
    "]\n",
    "post_file = '../hsle/data/crowdtangle-posts/processed_{}.csv'.format(mf.split('/')[-3])\n",
    "postdf = pd.read_csv(post_file, sep='~', usecols=post_cols2load)\n",
    "postdf = postdf[[\n",
    "    'Page Name',\n",
    "    'URL',\n",
    "    'Likes',\n",
    "    'Comments',\n",
    "    'Shares',\n",
    "    'Love',\n",
    "    'Wow',\n",
    "    'Haha',\n",
    "    'Sad',\n",
    "    'Angry',\n",
    "    'Thankful',\n",
    "    'MsgUniCleanSeg'\n",
    "]]\n",
    "postdf.columns = [\n",
    "    'PageName',\n",
    "    'URL',\n",
    "    'Likes',\n",
    "    'Comments',\n",
    "    'Shares',\n",
    "    'Love',\n",
    "    'Wow',\n",
    "    'Haha',\n",
    "    'Sad',\n",
    "    'Angry',\n",
    "    'Thankful',\n",
    "    'MsgUniSeg'\n",
    "]\n",
    "print(postdf.shape)\n",
    "postdf.head(2)"
   ]
  },
  {
   "cell_type": "markdown",
   "metadata": {},
   "source": [
    "## Update `LexFound`"
   ]
  },
  {
   "cell_type": "code",
   "execution_count": 20,
   "metadata": {},
   "outputs": [
    {
     "output_type": "stream",
     "name": "stderr",
     "text": "100%|██████████| 82552/82552 [00:00<00:00, 134880.54it/s]\n"
    },
    {
     "output_type": "execute_result",
     "data": {
      "text/plain": "            Profile ID                 Date  Likes  \\\n0  ID: 100007659289464  2020-03-29 23:48:23     20   \n1  ID: 100017115008349  2020-03-29 23:51:47      7   \n\n                                           MsgUniSeg LexFound  \\\n0  အရမ်း များ စော နေ မ လား ဗျ ။ YBS တွေ မြို့ပတ်ရ...      NaN   \n1  စော သေး တယ် နေ ပါ အုံး လား သုံး လ ကြီး များ တေ...      NaN   \n\n                                             PostURL  \n0  https://www.facebook.com/MOIWebportalMyanmar/p...  \n1  https://www.facebook.com/MOIWebportalMyanmar/p...  ",
      "text/html": "<div>\n<style scoped>\n    .dataframe tbody tr th:only-of-type {\n        vertical-align: middle;\n    }\n\n    .dataframe tbody tr th {\n        vertical-align: top;\n    }\n\n    .dataframe thead th {\n        text-align: right;\n    }\n</style>\n<table border=\"1\" class=\"dataframe\">\n  <thead>\n    <tr style=\"text-align: right;\">\n      <th></th>\n      <th>Profile ID</th>\n      <th>Date</th>\n      <th>Likes</th>\n      <th>MsgUniSeg</th>\n      <th>LexFound</th>\n      <th>PostURL</th>\n    </tr>\n  </thead>\n  <tbody>\n    <tr>\n      <th>0</th>\n      <td>ID: 100007659289464</td>\n      <td>2020-03-29 23:48:23</td>\n      <td>20</td>\n      <td>အရမ်း များ စော နေ မ လား ဗျ ။ YBS တွေ မြို့ပတ်ရ...</td>\n      <td>NaN</td>\n      <td>https://www.facebook.com/MOIWebportalMyanmar/p...</td>\n    </tr>\n    <tr>\n      <th>1</th>\n      <td>ID: 100017115008349</td>\n      <td>2020-03-29 23:51:47</td>\n      <td>7</td>\n      <td>စော သေး တယ် နေ ပါ အုံး လား သုံး လ ကြီး များ တေ...</td>\n      <td>NaN</td>\n      <td>https://www.facebook.com/MOIWebportalMyanmar/p...</td>\n    </tr>\n  </tbody>\n</table>\n</div>"
     },
     "metadata": {},
     "execution_count": 20
    }
   ],
   "source": [
    "lexes = hsle.LoadLexiconSet(False, None, True)\n",
    "df['LexFound'] = [set(l.split()).intersection(lexes) for l in tqdm(df.MsgUniSeg)]\n",
    "df['LexFound'] = [np.nan if len(l)==0 else '~'.join(l) for l in df.LexFound]\n",
    "df.head(2)"
   ]
  },
  {
   "cell_type": "code",
   "execution_count": 25,
   "metadata": {},
   "outputs": [
    {
     "output_type": "execute_result",
     "data": {
      "text/plain": "                                 PageName  \\\n0                               ApannPyay   \n1  Ministry of Health and Sports, Myanmar   \n\n                                                 URL  Likes  Comments  Shares  \\\n0  https://www.facebook.com/ApannPyay/posts/36268...  33122     21539   45983   \n1  https://www.facebook.com/MinistryOfHealthAndSp...  18327       732    3883   \n\n   Love   Wow  Haha  Sad  Angry  Thankful  \\\n0   107  3754   526  870  11354         0   \n1   143    35    39  170     12         0   \n\n                                           MsgUniSeg LexFound  \n0  ခဏ လေး သည်းခံ ပြီး အစစ်ခံ လိုက် ရင် ဘာ များ ဖြ...      NaN  \n1  နယ်စပ် ဂိတ် များ မှတစ်ဆင့် မြန်မာနိုင်ငံ သို့ ...      NaN  ",
      "text/html": "<div>\n<style scoped>\n    .dataframe tbody tr th:only-of-type {\n        vertical-align: middle;\n    }\n\n    .dataframe tbody tr th {\n        vertical-align: top;\n    }\n\n    .dataframe thead th {\n        text-align: right;\n    }\n</style>\n<table border=\"1\" class=\"dataframe\">\n  <thead>\n    <tr style=\"text-align: right;\">\n      <th></th>\n      <th>PageName</th>\n      <th>URL</th>\n      <th>Likes</th>\n      <th>Comments</th>\n      <th>Shares</th>\n      <th>Love</th>\n      <th>Wow</th>\n      <th>Haha</th>\n      <th>Sad</th>\n      <th>Angry</th>\n      <th>Thankful</th>\n      <th>MsgUniSeg</th>\n      <th>LexFound</th>\n    </tr>\n  </thead>\n  <tbody>\n    <tr>\n      <th>0</th>\n      <td>ApannPyay</td>\n      <td>https://www.facebook.com/ApannPyay/posts/36268...</td>\n      <td>33122</td>\n      <td>21539</td>\n      <td>45983</td>\n      <td>107</td>\n      <td>3754</td>\n      <td>526</td>\n      <td>870</td>\n      <td>11354</td>\n      <td>0</td>\n      <td>ခဏ လေး သည်းခံ ပြီး အစစ်ခံ လိုက် ရင် ဘာ များ ဖြ...</td>\n      <td>NaN</td>\n    </tr>\n    <tr>\n      <th>1</th>\n      <td>Ministry of Health and Sports, Myanmar</td>\n      <td>https://www.facebook.com/MinistryOfHealthAndSp...</td>\n      <td>18327</td>\n      <td>732</td>\n      <td>3883</td>\n      <td>143</td>\n      <td>35</td>\n      <td>39</td>\n      <td>170</td>\n      <td>12</td>\n      <td>0</td>\n      <td>နယ်စပ် ဂိတ် များ မှတစ်ဆင့် မြန်မာနိုင်ငံ သို့ ...</td>\n      <td>NaN</td>\n    </tr>\n  </tbody>\n</table>\n</div>"
     },
     "metadata": {},
     "execution_count": 25
    }
   ],
   "source": [
    "postdf['LexFound'] = [set(str(l).split()).intersection(lexes) for l in postdf.MsgUniSeg]\n",
    "postdf['LexFound'] = [np.nan if len(l)==0 else '~'.join(l) for l in postdf.LexFound]\n",
    "postdf.head(2)"
   ]
  },
  {
   "cell_type": "markdown",
   "metadata": {},
   "source": [
    "## Analyses\n",
    "### HS-DateTime"
   ]
  },
  {
   "cell_type": "code",
   "execution_count": 30,
   "metadata": {},
   "outputs": [
    {
     "output_type": "display_data",
     "data": {
      "text/plain": "  Hate Speech Phrase            DateTime  Hour       Date\n0             သူခိုး 2020-03-30 07:23:13     7 2020-03-30\n1               ခွေး 2020-03-30 16:45:30    16 2020-03-30",
      "text/html": "<div>\n<style scoped>\n    .dataframe tbody tr th:only-of-type {\n        vertical-align: middle;\n    }\n\n    .dataframe tbody tr th {\n        vertical-align: top;\n    }\n\n    .dataframe thead th {\n        text-align: right;\n    }\n</style>\n<table border=\"1\" class=\"dataframe\">\n  <thead>\n    <tr style=\"text-align: right;\">\n      <th></th>\n      <th>Hate Speech Phrase</th>\n      <th>DateTime</th>\n      <th>Hour</th>\n      <th>Date</th>\n    </tr>\n  </thead>\n  <tbody>\n    <tr>\n      <th>0</th>\n      <td>သူခိုး</td>\n      <td>2020-03-30 07:23:13</td>\n      <td>7</td>\n      <td>2020-03-30</td>\n    </tr>\n    <tr>\n      <th>1</th>\n      <td>ခွေး</td>\n      <td>2020-03-30 16:45:30</td>\n      <td>16</td>\n      <td>2020-03-30</td>\n    </tr>\n  </tbody>\n</table>\n</div>"
     },
     "metadata": {}
    }
   ],
   "source": [
    "tmp = df.loc[~df.LexFound.isna(),:]\n",
    "datetime_sr = pd.to_datetime(tmp.Date)\n",
    "lex_sr = tmp.LexFound.apply(lambda x: x.split('~'))\n",
    "\n",
    "dtflat, lexflat = [], []\n",
    "hours = []\n",
    "for dt,lex in zip(datetime_sr, lex_sr):\n",
    "    for l in lex:\n",
    "        dtflat.append(dt)\n",
    "        hours.append(dt.hour)\n",
    "        lexflat.append(l)\n",
    "\n",
    "lex_time = pd.DataFrame({\n",
    "    'Hate Speech Phrase': lexflat,\n",
    "    'DateTime': dtflat,\n",
    "    'Hour': hours\n",
    "})\n",
    "lex_time['Date'] = [pd.datetime(d.year, d.month, d.day) for d in lex_time.DateTime]\n",
    "display(lex_time.head(2))"
   ]
  },
  {
   "cell_type": "code",
   "execution_count": 31,
   "metadata": {},
   "outputs": [
    {
     "output_type": "execute_result",
     "data": {
      "text/plain": "(3592, 4)"
     },
     "metadata": {},
     "execution_count": 31
    }
   ],
   "source": [
    "lex_time.shape"
   ]
  },
  {
   "cell_type": "code",
   "execution_count": 34,
   "metadata": {},
   "outputs": [],
   "source": [
    "from datetime import datetime"
   ]
  },
  {
   "cell_type": "code",
   "execution_count": 38,
   "metadata": {},
   "outputs": [],
   "source": [
    "def datetime_suffix():\n",
    "    now = datetime.now()\n",
    "    return '{}{:02}{:02}{:02}{:02}{:02}'.format(\n",
    "        now.year, now.month, now.day, now.hour, now.minute, now.second)"
   ]
  },
  {
   "cell_type": "code",
   "execution_count": null,
   "metadata": {},
   "outputs": [],
   "source": []
  }
 ]
}